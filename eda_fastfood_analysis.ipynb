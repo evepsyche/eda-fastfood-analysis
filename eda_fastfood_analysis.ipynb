{
  "cells": [
    {
      "cell_type": "markdown",
      "metadata": {
        "id": "view-in-github",
        "colab_type": "text"
      },
      "source": [
        "<a href=\"https://colab.research.google.com/github/silvaelaine/eda-fastfood-analysis/blob/main/eda_fastfood_analysis.ipynb\" target=\"_parent\"><img src=\"https://colab.research.google.com/assets/colab-badge.svg\" alt=\"Open In Colab\"/></a>"
      ]
    },
    {
      "cell_type": "code",
      "execution_count": null,
      "id": "fd0a2f3c",
      "metadata": {
        "_cell_guid": "b1076dfc-b9ad-4769-8c92-a6c4dae69d19",
        "_uuid": "8f2839f25d086af736a60e9eeb907d3b93b6e0e5",
        "execution": {
          "iopub.execute_input": "2023-08-05T20:59:39.128469Z",
          "iopub.status.busy": "2023-08-05T20:59:39.127841Z",
          "iopub.status.idle": "2023-08-05T20:59:39.146120Z",
          "shell.execute_reply": "2023-08-05T20:59:39.145258Z"
        },
        "papermill": {
          "duration": 0.042685,
          "end_time": "2023-08-05T20:59:39.148847",
          "exception": false,
          "start_time": "2023-08-05T20:59:39.106162",
          "status": "completed"
        },
        "tags": [],
        "id": "fd0a2f3c",
        "outputId": "c261905b-7d6d-4cd8-aa96-b9d4e641be09"
      },
      "outputs": [
        {
          "name": "stdout",
          "output_type": "stream",
          "text": [
            "/kaggle/input/fastfood-nutrition/fastfood.csv\n"
          ]
        }
      ],
      "source": [
        "# This Python 3 environment comes with many helpful analytics libraries installed\n",
        "# It is defined by the kaggle/python Docker image: https://github.com/kaggle/docker-python\n",
        "# For example, here's several helpful packages to load\n",
        "\n",
        "import numpy as np # linear algebra\n",
        "import pandas as pd # data processing, CSV file I/O (e.g. pd.read_csv)\n",
        "\n",
        "# Input data files are available in the read-only \"../input/\" directory\n",
        "# For example, running this (by clicking run or pressing Shift+Enter) will list all files under the input directory\n",
        "\n",
        "import os\n",
        "for dirname, _, filenames in os.walk('/kaggle/input'):\n",
        "    for filename in filenames:\n",
        "        print(os.path.join(dirname, filename))\n",
        "\n",
        "# You can write up to 20GB to the current directory (/kaggle/working/) that gets preserved as output when you create a version using \"Save & Run All\"\n",
        "# You can also write temporary files to /kaggle/temp/, but they won't be saved outside of the current session"
      ]
    },
    {
      "cell_type": "code",
      "execution_count": null,
      "id": "64026192",
      "metadata": {
        "execution": {
          "iopub.execute_input": "2023-08-05T20:59:39.191251Z",
          "iopub.status.busy": "2023-08-05T20:59:39.190649Z",
          "iopub.status.idle": "2023-08-05T20:59:41.767542Z",
          "shell.execute_reply": "2023-08-05T20:59:41.766113Z"
        },
        "papermill": {
          "duration": 2.602682,
          "end_time": "2023-08-05T20:59:41.770934",
          "exception": false,
          "start_time": "2023-08-05T20:59:39.168252",
          "status": "completed"
        },
        "tags": [],
        "id": "64026192",
        "outputId": "94c0d0ab-fe75-43f2-a633-4d81ecc7ff7a"
      },
      "outputs": [
        {
          "name": "stderr",
          "output_type": "stream",
          "text": [
            "/opt/conda/lib/python3.10/site-packages/scipy/__init__.py:146: UserWarning: A NumPy version >=1.16.5 and <1.23.0 is required for this version of SciPy (detected version 1.23.5\n",
            "  warnings.warn(f\"A NumPy version >={np_minversion} and <{np_maxversion}\"\n"
          ]
        }
      ],
      "source": [
        "import pandas as pd\n",
        "import numpy as np\n",
        "import plotly.express as px\n",
        "\n",
        "import seaborn as sns\n",
        "\n",
        "import matplotlib.pyplot as plt\n",
        "%matplotlib inline"
      ]
    },
    {
      "cell_type": "markdown",
      "id": "f9125af9",
      "metadata": {
        "papermill": {
          "duration": 0.019434,
          "end_time": "2023-08-05T20:59:41.810461",
          "exception": false,
          "start_time": "2023-08-05T20:59:41.791027",
          "status": "completed"
        },
        "tags": [],
        "id": "f9125af9"
      },
      "source": [
        "# Loading dataset"
      ]
    },
    {
      "cell_type": "code",
      "execution_count": null,
      "id": "9e5c269f",
      "metadata": {
        "execution": {
          "iopub.execute_input": "2023-08-05T20:59:41.852172Z",
          "iopub.status.busy": "2023-08-05T20:59:41.851374Z",
          "iopub.status.idle": "2023-08-05T20:59:41.881377Z",
          "shell.execute_reply": "2023-08-05T20:59:41.880370Z"
        },
        "papermill": {
          "duration": 0.054195,
          "end_time": "2023-08-05T20:59:41.884278",
          "exception": false,
          "start_time": "2023-08-05T20:59:41.830083",
          "status": "completed"
        },
        "tags": [],
        "id": "9e5c269f"
      },
      "outputs": [],
      "source": [
        "df = pd.read_csv(r'/kaggle/input/fastfood-nutrition/fastfood.csv')"
      ]
    },
    {
      "cell_type": "code",
      "execution_count": null,
      "id": "44d39631",
      "metadata": {
        "execution": {
          "iopub.execute_input": "2023-08-05T20:59:41.926983Z",
          "iopub.status.busy": "2023-08-05T20:59:41.926125Z",
          "iopub.status.idle": "2023-08-05T20:59:41.963714Z",
          "shell.execute_reply": "2023-08-05T20:59:41.962470Z"
        },
        "papermill": {
          "duration": 0.062587,
          "end_time": "2023-08-05T20:59:41.966728",
          "exception": false,
          "start_time": "2023-08-05T20:59:41.904141",
          "status": "completed"
        },
        "tags": [],
        "id": "44d39631",
        "outputId": "3102fad2-49d1-4975-e068-68e60b99cc4c"
      },
      "outputs": [
        {
          "data": {
            "text/html": [
              "<div>\n",
              "<style scoped>\n",
              "    .dataframe tbody tr th:only-of-type {\n",
              "        vertical-align: middle;\n",
              "    }\n",
              "\n",
              "    .dataframe tbody tr th {\n",
              "        vertical-align: top;\n",
              "    }\n",
              "\n",
              "    .dataframe thead th {\n",
              "        text-align: right;\n",
              "    }\n",
              "</style>\n",
              "<table border=\"1\" class=\"dataframe\">\n",
              "  <thead>\n",
              "    <tr style=\"text-align: right;\">\n",
              "      <th></th>\n",
              "      <th>restaurant</th>\n",
              "      <th>item</th>\n",
              "      <th>calories</th>\n",
              "      <th>cal_fat</th>\n",
              "      <th>total_fat</th>\n",
              "      <th>sat_fat</th>\n",
              "      <th>trans_fat</th>\n",
              "      <th>cholesterol</th>\n",
              "      <th>sodium</th>\n",
              "      <th>total_carb</th>\n",
              "      <th>fiber</th>\n",
              "      <th>sugar</th>\n",
              "      <th>protein</th>\n",
              "      <th>vit_a</th>\n",
              "      <th>vit_c</th>\n",
              "      <th>calcium</th>\n",
              "      <th>salad</th>\n",
              "    </tr>\n",
              "  </thead>\n",
              "  <tbody>\n",
              "    <tr>\n",
              "      <th>0</th>\n",
              "      <td>Mcdonalds</td>\n",
              "      <td>Artisan Grilled Chicken Sandwich</td>\n",
              "      <td>380</td>\n",
              "      <td>60</td>\n",
              "      <td>7</td>\n",
              "      <td>2.0</td>\n",
              "      <td>0.0</td>\n",
              "      <td>95</td>\n",
              "      <td>1110</td>\n",
              "      <td>44</td>\n",
              "      <td>3.0</td>\n",
              "      <td>11</td>\n",
              "      <td>37.0</td>\n",
              "      <td>4.0</td>\n",
              "      <td>20.0</td>\n",
              "      <td>20.0</td>\n",
              "      <td>Other</td>\n",
              "    </tr>\n",
              "    <tr>\n",
              "      <th>1</th>\n",
              "      <td>Mcdonalds</td>\n",
              "      <td>Single Bacon Smokehouse Burger</td>\n",
              "      <td>840</td>\n",
              "      <td>410</td>\n",
              "      <td>45</td>\n",
              "      <td>17.0</td>\n",
              "      <td>1.5</td>\n",
              "      <td>130</td>\n",
              "      <td>1580</td>\n",
              "      <td>62</td>\n",
              "      <td>2.0</td>\n",
              "      <td>18</td>\n",
              "      <td>46.0</td>\n",
              "      <td>6.0</td>\n",
              "      <td>20.0</td>\n",
              "      <td>20.0</td>\n",
              "      <td>Other</td>\n",
              "    </tr>\n",
              "    <tr>\n",
              "      <th>2</th>\n",
              "      <td>Mcdonalds</td>\n",
              "      <td>Double Bacon Smokehouse Burger</td>\n",
              "      <td>1130</td>\n",
              "      <td>600</td>\n",
              "      <td>67</td>\n",
              "      <td>27.0</td>\n",
              "      <td>3.0</td>\n",
              "      <td>220</td>\n",
              "      <td>1920</td>\n",
              "      <td>63</td>\n",
              "      <td>3.0</td>\n",
              "      <td>18</td>\n",
              "      <td>70.0</td>\n",
              "      <td>10.0</td>\n",
              "      <td>20.0</td>\n",
              "      <td>50.0</td>\n",
              "      <td>Other</td>\n",
              "    </tr>\n",
              "    <tr>\n",
              "      <th>3</th>\n",
              "      <td>Mcdonalds</td>\n",
              "      <td>Grilled Bacon Smokehouse Chicken Sandwich</td>\n",
              "      <td>750</td>\n",
              "      <td>280</td>\n",
              "      <td>31</td>\n",
              "      <td>10.0</td>\n",
              "      <td>0.5</td>\n",
              "      <td>155</td>\n",
              "      <td>1940</td>\n",
              "      <td>62</td>\n",
              "      <td>2.0</td>\n",
              "      <td>18</td>\n",
              "      <td>55.0</td>\n",
              "      <td>6.0</td>\n",
              "      <td>25.0</td>\n",
              "      <td>20.0</td>\n",
              "      <td>Other</td>\n",
              "    </tr>\n",
              "    <tr>\n",
              "      <th>4</th>\n",
              "      <td>Mcdonalds</td>\n",
              "      <td>Crispy Bacon Smokehouse Chicken Sandwich</td>\n",
              "      <td>920</td>\n",
              "      <td>410</td>\n",
              "      <td>45</td>\n",
              "      <td>12.0</td>\n",
              "      <td>0.5</td>\n",
              "      <td>120</td>\n",
              "      <td>1980</td>\n",
              "      <td>81</td>\n",
              "      <td>4.0</td>\n",
              "      <td>18</td>\n",
              "      <td>46.0</td>\n",
              "      <td>6.0</td>\n",
              "      <td>20.0</td>\n",
              "      <td>20.0</td>\n",
              "      <td>Other</td>\n",
              "    </tr>\n",
              "  </tbody>\n",
              "</table>\n",
              "</div>"
            ],
            "text/plain": [
              "  restaurant                                       item  calories  cal_fat  \\\n",
              "0  Mcdonalds           Artisan Grilled Chicken Sandwich       380       60   \n",
              "1  Mcdonalds             Single Bacon Smokehouse Burger       840      410   \n",
              "2  Mcdonalds             Double Bacon Smokehouse Burger      1130      600   \n",
              "3  Mcdonalds  Grilled Bacon Smokehouse Chicken Sandwich       750      280   \n",
              "4  Mcdonalds   Crispy Bacon Smokehouse Chicken Sandwich       920      410   \n",
              "\n",
              "   total_fat  sat_fat  trans_fat  cholesterol  sodium  total_carb  fiber  \\\n",
              "0          7      2.0        0.0           95    1110          44    3.0   \n",
              "1         45     17.0        1.5          130    1580          62    2.0   \n",
              "2         67     27.0        3.0          220    1920          63    3.0   \n",
              "3         31     10.0        0.5          155    1940          62    2.0   \n",
              "4         45     12.0        0.5          120    1980          81    4.0   \n",
              "\n",
              "   sugar  protein  vit_a  vit_c  calcium  salad  \n",
              "0     11     37.0    4.0   20.0     20.0  Other  \n",
              "1     18     46.0    6.0   20.0     20.0  Other  \n",
              "2     18     70.0   10.0   20.0     50.0  Other  \n",
              "3     18     55.0    6.0   25.0     20.0  Other  \n",
              "4     18     46.0    6.0   20.0     20.0  Other  "
            ]
          },
          "execution_count": 4,
          "metadata": {},
          "output_type": "execute_result"
        }
      ],
      "source": [
        "df.head()"
      ]
    },
    {
      "cell_type": "code",
      "execution_count": null,
      "id": "452ffafd",
      "metadata": {
        "execution": {
          "iopub.execute_input": "2023-08-05T20:59:42.010685Z",
          "iopub.status.busy": "2023-08-05T20:59:42.010214Z",
          "iopub.status.idle": "2023-08-05T20:59:42.035509Z",
          "shell.execute_reply": "2023-08-05T20:59:42.034157Z"
        },
        "papermill": {
          "duration": 0.050426,
          "end_time": "2023-08-05T20:59:42.038204",
          "exception": false,
          "start_time": "2023-08-05T20:59:41.987778",
          "status": "completed"
        },
        "tags": [],
        "id": "452ffafd",
        "outputId": "9be4d674-a0ca-4989-e461-f5a7f0b47ccf"
      },
      "outputs": [
        {
          "data": {
            "text/html": [
              "<div>\n",
              "<style scoped>\n",
              "    .dataframe tbody tr th:only-of-type {\n",
              "        vertical-align: middle;\n",
              "    }\n",
              "\n",
              "    .dataframe tbody tr th {\n",
              "        vertical-align: top;\n",
              "    }\n",
              "\n",
              "    .dataframe thead th {\n",
              "        text-align: right;\n",
              "    }\n",
              "</style>\n",
              "<table border=\"1\" class=\"dataframe\">\n",
              "  <thead>\n",
              "    <tr style=\"text-align: right;\">\n",
              "      <th></th>\n",
              "      <th>restaurant</th>\n",
              "      <th>item</th>\n",
              "      <th>calories</th>\n",
              "      <th>cal_fat</th>\n",
              "      <th>total_fat</th>\n",
              "      <th>sat_fat</th>\n",
              "      <th>trans_fat</th>\n",
              "      <th>cholesterol</th>\n",
              "      <th>sodium</th>\n",
              "      <th>total_carb</th>\n",
              "      <th>fiber</th>\n",
              "      <th>sugar</th>\n",
              "      <th>protein</th>\n",
              "      <th>vit_a</th>\n",
              "      <th>vit_c</th>\n",
              "      <th>calcium</th>\n",
              "      <th>salad</th>\n",
              "    </tr>\n",
              "  </thead>\n",
              "  <tbody>\n",
              "    <tr>\n",
              "      <th>510</th>\n",
              "      <td>Taco Bell</td>\n",
              "      <td>Spicy Triple Double Crunchwrap</td>\n",
              "      <td>780</td>\n",
              "      <td>340</td>\n",
              "      <td>38</td>\n",
              "      <td>10.0</td>\n",
              "      <td>0.5</td>\n",
              "      <td>50</td>\n",
              "      <td>1850</td>\n",
              "      <td>87</td>\n",
              "      <td>9.0</td>\n",
              "      <td>8</td>\n",
              "      <td>23.0</td>\n",
              "      <td>20.0</td>\n",
              "      <td>10.0</td>\n",
              "      <td>25.0</td>\n",
              "      <td>Other</td>\n",
              "    </tr>\n",
              "    <tr>\n",
              "      <th>511</th>\n",
              "      <td>Taco Bell</td>\n",
              "      <td>Express Taco Salad w/ Chips</td>\n",
              "      <td>580</td>\n",
              "      <td>260</td>\n",
              "      <td>29</td>\n",
              "      <td>9.0</td>\n",
              "      <td>1.0</td>\n",
              "      <td>60</td>\n",
              "      <td>1270</td>\n",
              "      <td>59</td>\n",
              "      <td>8.0</td>\n",
              "      <td>7</td>\n",
              "      <td>23.0</td>\n",
              "      <td>NaN</td>\n",
              "      <td>NaN</td>\n",
              "      <td>NaN</td>\n",
              "      <td>Other</td>\n",
              "    </tr>\n",
              "    <tr>\n",
              "      <th>512</th>\n",
              "      <td>Taco Bell</td>\n",
              "      <td>Fiesta Taco Salad-Beef</td>\n",
              "      <td>780</td>\n",
              "      <td>380</td>\n",
              "      <td>42</td>\n",
              "      <td>10.0</td>\n",
              "      <td>1.0</td>\n",
              "      <td>60</td>\n",
              "      <td>1340</td>\n",
              "      <td>74</td>\n",
              "      <td>11.0</td>\n",
              "      <td>7</td>\n",
              "      <td>26.0</td>\n",
              "      <td>NaN</td>\n",
              "      <td>NaN</td>\n",
              "      <td>NaN</td>\n",
              "      <td>Other</td>\n",
              "    </tr>\n",
              "    <tr>\n",
              "      <th>513</th>\n",
              "      <td>Taco Bell</td>\n",
              "      <td>Fiesta Taco Salad-Chicken</td>\n",
              "      <td>720</td>\n",
              "      <td>320</td>\n",
              "      <td>35</td>\n",
              "      <td>7.0</td>\n",
              "      <td>0.0</td>\n",
              "      <td>70</td>\n",
              "      <td>1260</td>\n",
              "      <td>70</td>\n",
              "      <td>8.0</td>\n",
              "      <td>8</td>\n",
              "      <td>32.0</td>\n",
              "      <td>NaN</td>\n",
              "      <td>NaN</td>\n",
              "      <td>NaN</td>\n",
              "      <td>Other</td>\n",
              "    </tr>\n",
              "    <tr>\n",
              "      <th>514</th>\n",
              "      <td>Taco Bell</td>\n",
              "      <td>Fiesta Taco Salad-Steak</td>\n",
              "      <td>720</td>\n",
              "      <td>320</td>\n",
              "      <td>36</td>\n",
              "      <td>8.0</td>\n",
              "      <td>1.0</td>\n",
              "      <td>55</td>\n",
              "      <td>1340</td>\n",
              "      <td>70</td>\n",
              "      <td>8.0</td>\n",
              "      <td>8</td>\n",
              "      <td>28.0</td>\n",
              "      <td>NaN</td>\n",
              "      <td>NaN</td>\n",
              "      <td>NaN</td>\n",
              "      <td>Other</td>\n",
              "    </tr>\n",
              "  </tbody>\n",
              "</table>\n",
              "</div>"
            ],
            "text/plain": [
              "    restaurant                            item  calories  cal_fat  total_fat  \\\n",
              "510  Taco Bell  Spicy Triple Double Crunchwrap       780      340         38   \n",
              "511  Taco Bell     Express Taco Salad w/ Chips       580      260         29   \n",
              "512  Taco Bell          Fiesta Taco Salad-Beef       780      380         42   \n",
              "513  Taco Bell       Fiesta Taco Salad-Chicken       720      320         35   \n",
              "514  Taco Bell         Fiesta Taco Salad-Steak       720      320         36   \n",
              "\n",
              "     sat_fat  trans_fat  cholesterol  sodium  total_carb  fiber  sugar  \\\n",
              "510     10.0        0.5           50    1850          87    9.0      8   \n",
              "511      9.0        1.0           60    1270          59    8.0      7   \n",
              "512     10.0        1.0           60    1340          74   11.0      7   \n",
              "513      7.0        0.0           70    1260          70    8.0      8   \n",
              "514      8.0        1.0           55    1340          70    8.0      8   \n",
              "\n",
              "     protein  vit_a  vit_c  calcium  salad  \n",
              "510     23.0   20.0   10.0     25.0  Other  \n",
              "511     23.0    NaN    NaN      NaN  Other  \n",
              "512     26.0    NaN    NaN      NaN  Other  \n",
              "513     32.0    NaN    NaN      NaN  Other  \n",
              "514     28.0    NaN    NaN      NaN  Other  "
            ]
          },
          "execution_count": 5,
          "metadata": {},
          "output_type": "execute_result"
        }
      ],
      "source": [
        "df.tail()"
      ]
    },
    {
      "cell_type": "code",
      "execution_count": null,
      "id": "5507d094",
      "metadata": {
        "execution": {
          "iopub.execute_input": "2023-08-05T20:59:42.081846Z",
          "iopub.status.busy": "2023-08-05T20:59:42.081432Z",
          "iopub.status.idle": "2023-08-05T20:59:42.089324Z",
          "shell.execute_reply": "2023-08-05T20:59:42.088058Z"
        },
        "papermill": {
          "duration": 0.03206,
          "end_time": "2023-08-05T20:59:42.091850",
          "exception": false,
          "start_time": "2023-08-05T20:59:42.059790",
          "status": "completed"
        },
        "tags": [],
        "id": "5507d094",
        "outputId": "1f5c4bf9-080e-4b21-cde3-4d57e6882a26"
      },
      "outputs": [
        {
          "data": {
            "text/plain": [
              "(515, 17)"
            ]
          },
          "execution_count": 6,
          "metadata": {},
          "output_type": "execute_result"
        }
      ],
      "source": [
        "df.shape"
      ]
    },
    {
      "cell_type": "markdown",
      "id": "4fc20072",
      "metadata": {
        "papermill": {
          "duration": 0.020083,
          "end_time": "2023-08-05T20:59:42.132636",
          "exception": false,
          "start_time": "2023-08-05T20:59:42.112553",
          "status": "completed"
        },
        "tags": [],
        "id": "4fc20072"
      },
      "source": [
        "The dataset has 515 rows and 17 columns."
      ]
    },
    {
      "cell_type": "code",
      "execution_count": null,
      "id": "582f03d3",
      "metadata": {
        "execution": {
          "iopub.execute_input": "2023-08-05T20:59:42.174801Z",
          "iopub.status.busy": "2023-08-05T20:59:42.174413Z",
          "iopub.status.idle": "2023-08-05T20:59:42.205660Z",
          "shell.execute_reply": "2023-08-05T20:59:42.204124Z"
        },
        "papermill": {
          "duration": 0.055541,
          "end_time": "2023-08-05T20:59:42.208365",
          "exception": false,
          "start_time": "2023-08-05T20:59:42.152824",
          "status": "completed"
        },
        "tags": [],
        "id": "582f03d3",
        "outputId": "12593c96-82e6-4905-f9ef-d26e6448273d"
      },
      "outputs": [
        {
          "name": "stdout",
          "output_type": "stream",
          "text": [
            "<class 'pandas.core.frame.DataFrame'>\n",
            "RangeIndex: 515 entries, 0 to 514\n",
            "Data columns (total 17 columns):\n",
            " #   Column       Non-Null Count  Dtype  \n",
            "---  ------       --------------  -----  \n",
            " 0   restaurant   515 non-null    object \n",
            " 1   item         515 non-null    object \n",
            " 2   calories     515 non-null    int64  \n",
            " 3   cal_fat      515 non-null    int64  \n",
            " 4   total_fat    515 non-null    int64  \n",
            " 5   sat_fat      515 non-null    float64\n",
            " 6   trans_fat    515 non-null    float64\n",
            " 7   cholesterol  515 non-null    int64  \n",
            " 8   sodium       515 non-null    int64  \n",
            " 9   total_carb   515 non-null    int64  \n",
            " 10  fiber        503 non-null    float64\n",
            " 11  sugar        515 non-null    int64  \n",
            " 12  protein      514 non-null    float64\n",
            " 13  vit_a        301 non-null    float64\n",
            " 14  vit_c        305 non-null    float64\n",
            " 15  calcium      305 non-null    float64\n",
            " 16  salad        515 non-null    object \n",
            "dtypes: float64(7), int64(7), object(3)\n",
            "memory usage: 68.5+ KB\n"
          ]
        }
      ],
      "source": [
        "df.info()"
      ]
    },
    {
      "cell_type": "code",
      "execution_count": null,
      "id": "a154e12a",
      "metadata": {
        "execution": {
          "iopub.execute_input": "2023-08-05T20:59:42.252444Z",
          "iopub.status.busy": "2023-08-05T20:59:42.251977Z",
          "iopub.status.idle": "2023-08-05T20:59:42.258712Z",
          "shell.execute_reply": "2023-08-05T20:59:42.257313Z"
        },
        "papermill": {
          "duration": 0.032728,
          "end_time": "2023-08-05T20:59:42.261787",
          "exception": false,
          "start_time": "2023-08-05T20:59:42.229059",
          "status": "completed"
        },
        "tags": [],
        "id": "a154e12a",
        "outputId": "e321bc81-24c4-4884-fd6c-d66da9e878c5"
      },
      "outputs": [
        {
          "name": "stdout",
          "output_type": "stream",
          "text": [
            "List of columns(Features): Index(['restaurant', 'item', 'calories', 'cal_fat', 'total_fat', 'sat_fat',\n",
            "       'trans_fat', 'cholesterol', 'sodium', 'total_carb', 'fiber', 'sugar',\n",
            "       'protein', 'vit_a', 'vit_c', 'calcium', 'salad'],\n",
            "      dtype='object').\n"
          ]
        }
      ],
      "source": [
        "print(f\"List of columns(Features): {df.columns}.\")"
      ]
    },
    {
      "cell_type": "code",
      "execution_count": null,
      "id": "a0dd7bdb",
      "metadata": {
        "execution": {
          "iopub.execute_input": "2023-08-05T20:59:42.306169Z",
          "iopub.status.busy": "2023-08-05T20:59:42.305731Z",
          "iopub.status.idle": "2023-08-05T20:59:42.320644Z",
          "shell.execute_reply": "2023-08-05T20:59:42.319449Z"
        },
        "papermill": {
          "duration": 0.04117,
          "end_time": "2023-08-05T20:59:42.323533",
          "exception": false,
          "start_time": "2023-08-05T20:59:42.282363",
          "status": "completed"
        },
        "tags": [],
        "id": "a0dd7bdb",
        "outputId": "756902d2-5a31-473f-a8d9-08cff41472dd"
      },
      "outputs": [
        {
          "data": {
            "text/plain": [
              "salad            1\n",
              "restaurant       8\n",
              "trans_fat       10\n",
              "fiber           18\n",
              "vit_a           21\n",
              "vit_c           23\n",
              "calcium         26\n",
              "sugar           31\n",
              "sat_fat         40\n",
              "cholesterol     52\n",
              "protein         70\n",
              "total_fat       80\n",
              "total_carb     103\n",
              "calories       113\n",
              "cal_fat        117\n",
              "sodium         197\n",
              "item           505\n",
              "dtype: int64"
            ]
          },
          "execution_count": 9,
          "metadata": {},
          "output_type": "execute_result"
        }
      ],
      "source": [
        "# Unique values per column\n",
        "df.nunique().sort_values()"
      ]
    },
    {
      "cell_type": "code",
      "execution_count": null,
      "id": "83edb557",
      "metadata": {
        "execution": {
          "iopub.execute_input": "2023-08-05T20:59:42.366689Z",
          "iopub.status.busy": "2023-08-05T20:59:42.365209Z",
          "iopub.status.idle": "2023-08-05T20:59:42.373596Z",
          "shell.execute_reply": "2023-08-05T20:59:42.372456Z"
        },
        "papermill": {
          "duration": 0.032314,
          "end_time": "2023-08-05T20:59:42.376096",
          "exception": false,
          "start_time": "2023-08-05T20:59:42.343782",
          "status": "completed"
        },
        "tags": [],
        "id": "83edb557",
        "outputId": "c93659bb-29ca-4f45-9ce1-9ef74c331773"
      },
      "outputs": [
        {
          "data": {
            "text/plain": [
              "array(['Mcdonalds', 'Chick Fil-A', 'Sonic', 'Arbys', 'Burger King',\n",
              "       'Dairy Queen', 'Subway', 'Taco Bell'], dtype=object)"
            ]
          },
          "execution_count": 10,
          "metadata": {},
          "output_type": "execute_result"
        }
      ],
      "source": [
        "# List of restaurants\n",
        "df.restaurant.unique()"
      ]
    },
    {
      "cell_type": "code",
      "execution_count": null,
      "id": "c7e0c88d",
      "metadata": {
        "execution": {
          "iopub.execute_input": "2023-08-05T20:59:42.418482Z",
          "iopub.status.busy": "2023-08-05T20:59:42.418057Z",
          "iopub.status.idle": "2023-08-05T20:59:42.428456Z",
          "shell.execute_reply": "2023-08-05T20:59:42.427577Z"
        },
        "papermill": {
          "duration": 0.034275,
          "end_time": "2023-08-05T20:59:42.430591",
          "exception": false,
          "start_time": "2023-08-05T20:59:42.396316",
          "status": "completed"
        },
        "tags": [],
        "id": "c7e0c88d",
        "outputId": "1d9d7a3c-df7c-406a-dd06-44af31bc9fef"
      },
      "outputs": [
        {
          "data": {
            "text/plain": [
              "restaurant       0\n",
              "item             0\n",
              "calories         0\n",
              "cal_fat          0\n",
              "total_fat        0\n",
              "sat_fat          0\n",
              "trans_fat        0\n",
              "cholesterol      0\n",
              "sodium           0\n",
              "total_carb       0\n",
              "fiber           12\n",
              "sugar            0\n",
              "protein          1\n",
              "vit_a          214\n",
              "vit_c          210\n",
              "calcium        210\n",
              "salad            0\n",
              "dtype: int64"
            ]
          },
          "execution_count": 11,
          "metadata": {},
          "output_type": "execute_result"
        }
      ],
      "source": [
        "#Missing values per columns\n",
        "df.isnull().sum()"
      ]
    },
    {
      "cell_type": "code",
      "execution_count": null,
      "id": "da04b1dd",
      "metadata": {
        "execution": {
          "iopub.execute_input": "2023-08-05T20:59:42.474446Z",
          "iopub.status.busy": "2023-08-05T20:59:42.473930Z",
          "iopub.status.idle": "2023-08-05T20:59:42.482008Z",
          "shell.execute_reply": "2023-08-05T20:59:42.480503Z"
        },
        "papermill": {
          "duration": 0.033851,
          "end_time": "2023-08-05T20:59:42.484640",
          "exception": false,
          "start_time": "2023-08-05T20:59:42.450789",
          "status": "completed"
        },
        "tags": [],
        "id": "da04b1dd",
        "outputId": "85214f40-8d52-47d8-ec0e-7478ff7a6307"
      },
      "outputs": [
        {
          "name": "stdout",
          "output_type": "stream",
          "text": [
            "Missing data: 647.\n"
          ]
        }
      ],
      "source": [
        "print(f\"Missing data: {df.isnull().values.sum()}.\")"
      ]
    },
    {
      "cell_type": "code",
      "execution_count": null,
      "id": "778d24bf",
      "metadata": {
        "execution": {
          "iopub.execute_input": "2023-08-05T20:59:42.526815Z",
          "iopub.status.busy": "2023-08-05T20:59:42.526380Z",
          "iopub.status.idle": "2023-08-05T20:59:42.535593Z",
          "shell.execute_reply": "2023-08-05T20:59:42.534327Z"
        },
        "papermill": {
          "duration": 0.033217,
          "end_time": "2023-08-05T20:59:42.538064",
          "exception": false,
          "start_time": "2023-08-05T20:59:42.504847",
          "status": "completed"
        },
        "tags": [],
        "id": "778d24bf",
        "outputId": "fd71df67-de83-429a-8a30-fa8cc2ac0231"
      },
      "outputs": [
        {
          "data": {
            "text/plain": [
              "Index(['restaurant', 'item', 'salad'], dtype='object')"
            ]
          },
          "execution_count": 13,
          "metadata": {},
          "output_type": "execute_result"
        }
      ],
      "source": [
        "# Categorical cols\n",
        "df.select_dtypes(include=['object']).columns"
      ]
    },
    {
      "cell_type": "code",
      "execution_count": null,
      "id": "7ddb9ccf",
      "metadata": {
        "execution": {
          "iopub.execute_input": "2023-08-05T20:59:42.581354Z",
          "iopub.status.busy": "2023-08-05T20:59:42.580417Z",
          "iopub.status.idle": "2023-08-05T20:59:42.589001Z",
          "shell.execute_reply": "2023-08-05T20:59:42.587730Z"
        },
        "papermill": {
          "duration": 0.032944,
          "end_time": "2023-08-05T20:59:42.591452",
          "exception": false,
          "start_time": "2023-08-05T20:59:42.558508",
          "status": "completed"
        },
        "tags": [],
        "id": "7ddb9ccf",
        "outputId": "64917052-d40c-49b6-d258-f46ce7149516"
      },
      "outputs": [
        {
          "data": {
            "text/plain": [
              "Index(['calories', 'cal_fat', 'total_fat', 'sat_fat', 'trans_fat',\n",
              "       'cholesterol', 'sodium', 'total_carb', 'fiber', 'sugar', 'protein',\n",
              "       'vit_a', 'vit_c', 'calcium'],\n",
              "      dtype='object')"
            ]
          },
          "execution_count": 14,
          "metadata": {},
          "output_type": "execute_result"
        }
      ],
      "source": [
        "# Numerical cols\n",
        "df.select_dtypes(exclude=['object']).columns"
      ]
    },
    {
      "cell_type": "code",
      "execution_count": null,
      "id": "4ea743b0",
      "metadata": {
        "execution": {
          "iopub.execute_input": "2023-08-05T20:59:42.634627Z",
          "iopub.status.busy": "2023-08-05T20:59:42.634213Z",
          "iopub.status.idle": "2023-08-05T20:59:42.644325Z",
          "shell.execute_reply": "2023-08-05T20:59:42.642958Z"
        },
        "papermill": {
          "duration": 0.034673,
          "end_time": "2023-08-05T20:59:42.646793",
          "exception": false,
          "start_time": "2023-08-05T20:59:42.612120",
          "status": "completed"
        },
        "tags": [],
        "id": "4ea743b0",
        "outputId": "37ed80af-668c-4acd-fe3f-af187b5cb690"
      },
      "outputs": [
        {
          "data": {
            "text/plain": [
              "restaurant      object\n",
              "item            object\n",
              "calories         int64\n",
              "cal_fat          int64\n",
              "total_fat        int64\n",
              "sat_fat        float64\n",
              "trans_fat      float64\n",
              "cholesterol      int64\n",
              "sodium           int64\n",
              "total_carb       int64\n",
              "fiber          float64\n",
              "sugar            int64\n",
              "protein        float64\n",
              "vit_a          float64\n",
              "vit_c          float64\n",
              "calcium        float64\n",
              "salad           object\n",
              "dtype: object"
            ]
          },
          "execution_count": 15,
          "metadata": {},
          "output_type": "execute_result"
        }
      ],
      "source": [
        "#Data types\n",
        "df.dtypes"
      ]
    },
    {
      "cell_type": "code",
      "execution_count": null,
      "id": "e7db7e38",
      "metadata": {
        "collapsed": true,
        "execution": {
          "iopub.execute_input": "2023-08-05T20:59:42.690982Z",
          "iopub.status.busy": "2023-08-05T20:59:42.690502Z",
          "iopub.status.idle": "2023-08-05T21:00:12.071059Z",
          "shell.execute_reply": "2023-08-05T21:00:12.069241Z"
        },
        "jupyter": {
          "outputs_hidden": true
        },
        "papermill": {
          "duration": 29.407131,
          "end_time": "2023-08-05T21:00:12.074782",
          "exception": false,
          "start_time": "2023-08-05T20:59:42.667651",
          "status": "completed"
        },
        "tags": [],
        "id": "e7db7e38",
        "outputId": "2612048b-e2a8-4bcb-dfbf-75b182c21382"
      },
      "outputs": [
        {
          "name": "stdout",
          "output_type": "stream",
          "text": [
            "Collecting skimpy\r\n",
            "  Downloading skimpy-0.0.9-py3-none-any.whl (15 kB)\r\n",
            "Requirement already satisfied: Pygments<3.0.0,>=2.10.0 in /opt/conda/lib/python3.10/site-packages (from skimpy) (2.15.1)\r\n",
            "Requirement already satisfied: click<9.0.0,>=8.1.3 in /opt/conda/lib/python3.10/site-packages (from skimpy) (8.1.3)\r\n",
            "Requirement already satisfied: ipykernel<7.0.0,>=6.7.0 in /opt/conda/lib/python3.10/site-packages (from skimpy) (6.23.3)\r\n",
            "Collecting jupyter<2.0.0,>=1.0.0 (from skimpy)\r\n",
            "  Downloading jupyter-1.0.0-py2.py3-none-any.whl (2.7 kB)\r\n",
            "Requirement already satisfied: numpy<2.0.0,>=1.22.2 in /opt/conda/lib/python3.10/site-packages (from skimpy) (1.23.5)\r\n",
            "Collecting pandas<3.0.0,>=2.0.3 (from skimpy)\r\n",
            "  Downloading pandas-2.0.3-cp310-cp310-manylinux_2_17_x86_64.manylinux2014_x86_64.whl (12.3 MB)\r\n",
            "\u001b[2K     \u001b[90m━━━━━━━━━━━━━━━━━━━━━━━━━━━━━━━━━━━━━━━━\u001b[0m \u001b[32m12.3/12.3 MB\u001b[0m \u001b[31m52.2 MB/s\u001b[0m eta \u001b[36m0:00:00\u001b[0m\r\n",
            "\u001b[?25hRequirement already satisfied: rich<14.0,>=10.9 in /opt/conda/lib/python3.10/site-packages (from skimpy) (13.4.2)\r\n",
            "Requirement already satisfied: typeguard<3.0.0,>=2.12.1 in /opt/conda/lib/python3.10/site-packages (from skimpy) (2.13.3)\r\n",
            "Requirement already satisfied: comm>=0.1.1 in /opt/conda/lib/python3.10/site-packages (from ipykernel<7.0.0,>=6.7.0->skimpy) (0.1.3)\r\n",
            "Requirement already satisfied: debugpy>=1.6.5 in /opt/conda/lib/python3.10/site-packages (from ipykernel<7.0.0,>=6.7.0->skimpy) (1.6.7)\r\n",
            "Requirement already satisfied: ipython>=7.23.1 in /opt/conda/lib/python3.10/site-packages (from ipykernel<7.0.0,>=6.7.0->skimpy) (8.14.0)\r\n",
            "Requirement already satisfied: jupyter-client>=6.1.12 in /opt/conda/lib/python3.10/site-packages (from ipykernel<7.0.0,>=6.7.0->skimpy) (7.4.9)\r\n",
            "Requirement already satisfied: jupyter-core!=5.0.*,>=4.12 in /opt/conda/lib/python3.10/site-packages (from ipykernel<7.0.0,>=6.7.0->skimpy) (5.3.1)\r\n",
            "Requirement already satisfied: matplotlib-inline>=0.1 in /opt/conda/lib/python3.10/site-packages (from ipykernel<7.0.0,>=6.7.0->skimpy) (0.1.6)\r\n",
            "Requirement already satisfied: nest-asyncio in /opt/conda/lib/python3.10/site-packages (from ipykernel<7.0.0,>=6.7.0->skimpy) (1.5.6)\r\n",
            "Requirement already satisfied: packaging in /opt/conda/lib/python3.10/site-packages (from ipykernel<7.0.0,>=6.7.0->skimpy) (21.3)\r\n",
            "Requirement already satisfied: psutil in /opt/conda/lib/python3.10/site-packages (from ipykernel<7.0.0,>=6.7.0->skimpy) (5.9.3)\r\n",
            "Requirement already satisfied: pyzmq>=20 in /opt/conda/lib/python3.10/site-packages (from ipykernel<7.0.0,>=6.7.0->skimpy) (25.1.0)\r\n",
            "Requirement already satisfied: tornado>=6.1 in /opt/conda/lib/python3.10/site-packages (from ipykernel<7.0.0,>=6.7.0->skimpy) (6.3.2)\r\n",
            "Requirement already satisfied: traitlets>=5.4.0 in /opt/conda/lib/python3.10/site-packages (from ipykernel<7.0.0,>=6.7.0->skimpy) (5.9.0)\r\n",
            "Requirement already satisfied: notebook in /opt/conda/lib/python3.10/site-packages (from jupyter<2.0.0,>=1.0.0->skimpy) (6.5.4)\r\n",
            "Requirement already satisfied: qtconsole in /opt/conda/lib/python3.10/site-packages (from jupyter<2.0.0,>=1.0.0->skimpy) (5.4.3)\r\n",
            "Requirement already satisfied: jupyter-console in /opt/conda/lib/python3.10/site-packages (from jupyter<2.0.0,>=1.0.0->skimpy) (6.6.3)\r\n",
            "Requirement already satisfied: nbconvert in /opt/conda/lib/python3.10/site-packages (from jupyter<2.0.0,>=1.0.0->skimpy) (6.4.5)\r\n",
            "Requirement already satisfied: ipywidgets in /opt/conda/lib/python3.10/site-packages (from jupyter<2.0.0,>=1.0.0->skimpy) (7.7.1)\r\n",
            "Requirement already satisfied: python-dateutil>=2.8.2 in /opt/conda/lib/python3.10/site-packages (from pandas<3.0.0,>=2.0.3->skimpy) (2.8.2)\r\n",
            "Requirement already satisfied: pytz>=2020.1 in /opt/conda/lib/python3.10/site-packages (from pandas<3.0.0,>=2.0.3->skimpy) (2023.3)\r\n",
            "Requirement already satisfied: tzdata>=2022.1 in /opt/conda/lib/python3.10/site-packages (from pandas<3.0.0,>=2.0.3->skimpy) (2023.3)\r\n",
            "Requirement already satisfied: markdown-it-py>=2.2.0 in /opt/conda/lib/python3.10/site-packages (from rich<14.0,>=10.9->skimpy) (2.2.0)\r\n",
            "Requirement already satisfied: backcall in /opt/conda/lib/python3.10/site-packages (from ipython>=7.23.1->ipykernel<7.0.0,>=6.7.0->skimpy) (0.2.0)\r\n",
            "Requirement already satisfied: decorator in /opt/conda/lib/python3.10/site-packages (from ipython>=7.23.1->ipykernel<7.0.0,>=6.7.0->skimpy) (5.1.1)\r\n",
            "Requirement already satisfied: jedi>=0.16 in /opt/conda/lib/python3.10/site-packages (from ipython>=7.23.1->ipykernel<7.0.0,>=6.7.0->skimpy) (0.18.2)\r\n",
            "Requirement already satisfied: pickleshare in /opt/conda/lib/python3.10/site-packages (from ipython>=7.23.1->ipykernel<7.0.0,>=6.7.0->skimpy) (0.7.5)\r\n",
            "Requirement already satisfied: prompt-toolkit!=3.0.37,<3.1.0,>=3.0.30 in /opt/conda/lib/python3.10/site-packages (from ipython>=7.23.1->ipykernel<7.0.0,>=6.7.0->skimpy) (3.0.38)\r\n",
            "Requirement already satisfied: stack-data in /opt/conda/lib/python3.10/site-packages (from ipython>=7.23.1->ipykernel<7.0.0,>=6.7.0->skimpy) (0.6.2)\r\n",
            "Requirement already satisfied: pexpect>4.3 in /opt/conda/lib/python3.10/site-packages (from ipython>=7.23.1->ipykernel<7.0.0,>=6.7.0->skimpy) (4.8.0)\r\n",
            "Requirement already satisfied: entrypoints in /opt/conda/lib/python3.10/site-packages (from jupyter-client>=6.1.12->ipykernel<7.0.0,>=6.7.0->skimpy) (0.4)\r\n",
            "Requirement already satisfied: platformdirs>=2.5 in /opt/conda/lib/python3.10/site-packages (from jupyter-core!=5.0.*,>=4.12->ipykernel<7.0.0,>=6.7.0->skimpy) (3.8.1)\r\n",
            "Requirement already satisfied: mdurl~=0.1 in /opt/conda/lib/python3.10/site-packages (from markdown-it-py>=2.2.0->rich<14.0,>=10.9->skimpy) (0.1.2)\r\n",
            "Requirement already satisfied: six>=1.5 in /opt/conda/lib/python3.10/site-packages (from python-dateutil>=2.8.2->pandas<3.0.0,>=2.0.3->skimpy) (1.16.0)\r\n",
            "Requirement already satisfied: ipython-genutils~=0.2.0 in /opt/conda/lib/python3.10/site-packages (from ipywidgets->jupyter<2.0.0,>=1.0.0->skimpy) (0.2.0)\r\n",
            "Requirement already satisfied: widgetsnbextension~=3.6.0 in /opt/conda/lib/python3.10/site-packages (from ipywidgets->jupyter<2.0.0,>=1.0.0->skimpy) (3.6.4)\r\n",
            "Requirement already satisfied: jupyterlab-widgets>=1.0.0 in /opt/conda/lib/python3.10/site-packages (from ipywidgets->jupyter<2.0.0,>=1.0.0->skimpy) (3.0.7)\r\n",
            "Requirement already satisfied: mistune<2,>=0.8.1 in /opt/conda/lib/python3.10/site-packages (from nbconvert->jupyter<2.0.0,>=1.0.0->skimpy) (0.8.4)\r\n",
            "Requirement already satisfied: jinja2>=2.4 in /opt/conda/lib/python3.10/site-packages (from nbconvert->jupyter<2.0.0,>=1.0.0->skimpy) (3.1.2)\r\n",
            "Requirement already satisfied: jupyterlab-pygments in /opt/conda/lib/python3.10/site-packages (from nbconvert->jupyter<2.0.0,>=1.0.0->skimpy) (0.2.2)\r\n",
            "Requirement already satisfied: nbformat>=4.4 in /opt/conda/lib/python3.10/site-packages (from nbconvert->jupyter<2.0.0,>=1.0.0->skimpy) (5.9.0)\r\n",
            "Requirement already satisfied: bleach in /opt/conda/lib/python3.10/site-packages (from nbconvert->jupyter<2.0.0,>=1.0.0->skimpy) (6.0.0)\r\n",
            "Requirement already satisfied: pandocfilters>=1.4.1 in /opt/conda/lib/python3.10/site-packages (from nbconvert->jupyter<2.0.0,>=1.0.0->skimpy) (1.5.0)\r\n",
            "Requirement already satisfied: testpath in /opt/conda/lib/python3.10/site-packages (from nbconvert->jupyter<2.0.0,>=1.0.0->skimpy) (0.6.0)\r\n",
            "Requirement already satisfied: defusedxml in /opt/conda/lib/python3.10/site-packages (from nbconvert->jupyter<2.0.0,>=1.0.0->skimpy) (0.7.1)\r\n",
            "Requirement already satisfied: beautifulsoup4 in /opt/conda/lib/python3.10/site-packages (from nbconvert->jupyter<2.0.0,>=1.0.0->skimpy) (4.12.2)\r\n",
            "Requirement already satisfied: nbclient<0.6.0,>=0.5.0 in /opt/conda/lib/python3.10/site-packages (from nbconvert->jupyter<2.0.0,>=1.0.0->skimpy) (0.5.13)\r\n",
            "Requirement already satisfied: MarkupSafe>=2.0 in /opt/conda/lib/python3.10/site-packages (from nbconvert->jupyter<2.0.0,>=1.0.0->skimpy) (2.1.3)\r\n",
            "Requirement already satisfied: argon2-cffi in /opt/conda/lib/python3.10/site-packages (from notebook->jupyter<2.0.0,>=1.0.0->skimpy) (21.3.0)\r\n",
            "Requirement already satisfied: Send2Trash>=1.8.0 in /opt/conda/lib/python3.10/site-packages (from notebook->jupyter<2.0.0,>=1.0.0->skimpy) (1.8.2)\r\n",
            "Requirement already satisfied: terminado>=0.8.3 in /opt/conda/lib/python3.10/site-packages (from notebook->jupyter<2.0.0,>=1.0.0->skimpy) (0.17.1)\r\n",
            "Requirement already satisfied: prometheus-client in /opt/conda/lib/python3.10/site-packages (from notebook->jupyter<2.0.0,>=1.0.0->skimpy) (0.17.0)\r\n",
            "Requirement already satisfied: nbclassic>=0.4.7 in /opt/conda/lib/python3.10/site-packages (from notebook->jupyter<2.0.0,>=1.0.0->skimpy) (1.0.0)\r\n",
            "Requirement already satisfied: pyparsing!=3.0.5,>=2.0.2 in /opt/conda/lib/python3.10/site-packages (from packaging->ipykernel<7.0.0,>=6.7.0->skimpy) (3.0.9)\r\n",
            "Requirement already satisfied: qtpy>=2.0.1 in /opt/conda/lib/python3.10/site-packages (from qtconsole->jupyter<2.0.0,>=1.0.0->skimpy) (2.3.1)\r\n",
            "Requirement already satisfied: parso<0.9.0,>=0.8.0 in /opt/conda/lib/python3.10/site-packages (from jedi>=0.16->ipython>=7.23.1->ipykernel<7.0.0,>=6.7.0->skimpy) (0.8.3)\r\n",
            "Requirement already satisfied: jupyter-server>=1.8 in /opt/conda/lib/python3.10/site-packages (from nbclassic>=0.4.7->notebook->jupyter<2.0.0,>=1.0.0->skimpy) (2.6.0)\r\n",
            "Requirement already satisfied: notebook-shim>=0.2.3 in /opt/conda/lib/python3.10/site-packages (from nbclassic>=0.4.7->notebook->jupyter<2.0.0,>=1.0.0->skimpy) (0.2.3)\r\n",
            "Requirement already satisfied: fastjsonschema in /opt/conda/lib/python3.10/site-packages (from nbformat>=4.4->nbconvert->jupyter<2.0.0,>=1.0.0->skimpy) (2.17.1)\r\n",
            "Requirement already satisfied: jsonschema>=2.6 in /opt/conda/lib/python3.10/site-packages (from nbformat>=4.4->nbconvert->jupyter<2.0.0,>=1.0.0->skimpy) (4.17.3)\r\n",
            "Requirement already satisfied: ptyprocess>=0.5 in /opt/conda/lib/python3.10/site-packages (from pexpect>4.3->ipython>=7.23.1->ipykernel<7.0.0,>=6.7.0->skimpy) (0.7.0)\r\n",
            "Requirement already satisfied: wcwidth in /opt/conda/lib/python3.10/site-packages (from prompt-toolkit!=3.0.37,<3.1.0,>=3.0.30->ipython>=7.23.1->ipykernel<7.0.0,>=6.7.0->skimpy) (0.2.6)\r\n",
            "Requirement already satisfied: argon2-cffi-bindings in /opt/conda/lib/python3.10/site-packages (from argon2-cffi->notebook->jupyter<2.0.0,>=1.0.0->skimpy) (21.2.0)\r\n",
            "Requirement already satisfied: soupsieve>1.2 in /opt/conda/lib/python3.10/site-packages (from beautifulsoup4->nbconvert->jupyter<2.0.0,>=1.0.0->skimpy) (2.3.2.post1)\r\n",
            "Requirement already satisfied: webencodings in /opt/conda/lib/python3.10/site-packages (from bleach->nbconvert->jupyter<2.0.0,>=1.0.0->skimpy) (0.5.1)\r\n",
            "Requirement already satisfied: executing>=1.2.0 in /opt/conda/lib/python3.10/site-packages (from stack-data->ipython>=7.23.1->ipykernel<7.0.0,>=6.7.0->skimpy) (1.2.0)\r\n",
            "Requirement already satisfied: asttokens>=2.1.0 in /opt/conda/lib/python3.10/site-packages (from stack-data->ipython>=7.23.1->ipykernel<7.0.0,>=6.7.0->skimpy) (2.2.1)\r\n",
            "Requirement already satisfied: pure-eval in /opt/conda/lib/python3.10/site-packages (from stack-data->ipython>=7.23.1->ipykernel<7.0.0,>=6.7.0->skimpy) (0.2.2)\r\n",
            "Requirement already satisfied: attrs>=17.4.0 in /opt/conda/lib/python3.10/site-packages (from jsonschema>=2.6->nbformat>=4.4->nbconvert->jupyter<2.0.0,>=1.0.0->skimpy) (23.1.0)\r\n",
            "Requirement already satisfied: pyrsistent!=0.17.0,!=0.17.1,!=0.17.2,>=0.14.0 in /opt/conda/lib/python3.10/site-packages (from jsonschema>=2.6->nbformat>=4.4->nbconvert->jupyter<2.0.0,>=1.0.0->skimpy) (0.19.3)\r\n",
            "Requirement already satisfied: anyio>=3.1.0 in /opt/conda/lib/python3.10/site-packages (from jupyter-server>=1.8->nbclassic>=0.4.7->notebook->jupyter<2.0.0,>=1.0.0->skimpy) (3.7.0)\r\n",
            "Requirement already satisfied: jupyter-events>=0.6.0 in /opt/conda/lib/python3.10/site-packages (from jupyter-server>=1.8->nbclassic>=0.4.7->notebook->jupyter<2.0.0,>=1.0.0->skimpy) (0.6.3)\r\n",
            "Requirement already satisfied: jupyter-server-terminals in /opt/conda/lib/python3.10/site-packages (from jupyter-server>=1.8->nbclassic>=0.4.7->notebook->jupyter<2.0.0,>=1.0.0->skimpy) (0.4.4)\r\n",
            "Requirement already satisfied: overrides in /opt/conda/lib/python3.10/site-packages (from jupyter-server>=1.8->nbclassic>=0.4.7->notebook->jupyter<2.0.0,>=1.0.0->skimpy) (6.5.0)\r\n",
            "Requirement already satisfied: websocket-client in /opt/conda/lib/python3.10/site-packages (from jupyter-server>=1.8->nbclassic>=0.4.7->notebook->jupyter<2.0.0,>=1.0.0->skimpy) (1.6.0)\r\n",
            "Requirement already satisfied: cffi>=1.0.1 in /opt/conda/lib/python3.10/site-packages (from argon2-cffi-bindings->argon2-cffi->notebook->jupyter<2.0.0,>=1.0.0->skimpy) (1.15.1)\r\n",
            "Requirement already satisfied: idna>=2.8 in /opt/conda/lib/python3.10/site-packages (from anyio>=3.1.0->jupyter-server>=1.8->nbclassic>=0.4.7->notebook->jupyter<2.0.0,>=1.0.0->skimpy) (3.4)\r\n",
            "Requirement already satisfied: sniffio>=1.1 in /opt/conda/lib/python3.10/site-packages (from anyio>=3.1.0->jupyter-server>=1.8->nbclassic>=0.4.7->notebook->jupyter<2.0.0,>=1.0.0->skimpy) (1.3.0)\r\n",
            "Requirement already satisfied: exceptiongroup in /opt/conda/lib/python3.10/site-packages (from anyio>=3.1.0->jupyter-server>=1.8->nbclassic>=0.4.7->notebook->jupyter<2.0.0,>=1.0.0->skimpy) (1.1.1)\r\n",
            "Requirement already satisfied: pycparser in /opt/conda/lib/python3.10/site-packages (from cffi>=1.0.1->argon2-cffi-bindings->argon2-cffi->notebook->jupyter<2.0.0,>=1.0.0->skimpy) (2.21)\r\n",
            "Requirement already satisfied: python-json-logger>=2.0.4 in /opt/conda/lib/python3.10/site-packages (from jupyter-events>=0.6.0->jupyter-server>=1.8->nbclassic>=0.4.7->notebook->jupyter<2.0.0,>=1.0.0->skimpy) (2.0.7)\r\n",
            "Requirement already satisfied: pyyaml>=5.3 in /opt/conda/lib/python3.10/site-packages (from jupyter-events>=0.6.0->jupyter-server>=1.8->nbclassic>=0.4.7->notebook->jupyter<2.0.0,>=1.0.0->skimpy) (6.0)\r\n",
            "Requirement already satisfied: rfc3339-validator in /opt/conda/lib/python3.10/site-packages (from jupyter-events>=0.6.0->jupyter-server>=1.8->nbclassic>=0.4.7->notebook->jupyter<2.0.0,>=1.0.0->skimpy) (0.1.4)\r\n",
            "Requirement already satisfied: rfc3986-validator>=0.1.1 in /opt/conda/lib/python3.10/site-packages (from jupyter-events>=0.6.0->jupyter-server>=1.8->nbclassic>=0.4.7->notebook->jupyter<2.0.0,>=1.0.0->skimpy) (0.1.1)\r\n",
            "Requirement already satisfied: fqdn in /opt/conda/lib/python3.10/site-packages (from jsonschema>=2.6->nbformat>=4.4->nbconvert->jupyter<2.0.0,>=1.0.0->skimpy) (1.5.1)\r\n",
            "Requirement already satisfied: isoduration in /opt/conda/lib/python3.10/site-packages (from jsonschema>=2.6->nbformat>=4.4->nbconvert->jupyter<2.0.0,>=1.0.0->skimpy) (20.11.0)\r\n",
            "Requirement already satisfied: jsonpointer>1.13 in /opt/conda/lib/python3.10/site-packages (from jsonschema>=2.6->nbformat>=4.4->nbconvert->jupyter<2.0.0,>=1.0.0->skimpy) (2.0)\r\n",
            "Requirement already satisfied: uri-template in /opt/conda/lib/python3.10/site-packages (from jsonschema>=2.6->nbformat>=4.4->nbconvert->jupyter<2.0.0,>=1.0.0->skimpy) (1.3.0)\r\n",
            "Requirement already satisfied: webcolors>=1.11 in /opt/conda/lib/python3.10/site-packages (from jsonschema>=2.6->nbformat>=4.4->nbconvert->jupyter<2.0.0,>=1.0.0->skimpy) (1.13)\r\n",
            "Requirement already satisfied: arrow>=0.15.0 in /opt/conda/lib/python3.10/site-packages (from isoduration->jsonschema>=2.6->nbformat>=4.4->nbconvert->jupyter<2.0.0,>=1.0.0->skimpy) (1.2.3)\r\n",
            "Installing collected packages: pandas, jupyter, skimpy\r\n",
            "  Attempting uninstall: pandas\r\n",
            "    Found existing installation: pandas 1.5.3\r\n",
            "    Uninstalling pandas-1.5.3:\r\n",
            "      Successfully uninstalled pandas-1.5.3\r\n",
            "\u001b[31mERROR: pip's dependency resolver does not currently take into account all the packages that are installed. This behaviour is the source of the following dependency conflicts.\r\n",
            "beatrix-jupyterlab 2023.621.222118 requires jupyter-server~=1.16, but you have jupyter-server 2.6.0 which is incompatible.\r\n",
            "featuretools 1.26.0 requires pandas<2.0.0,>=1.5.0, but you have pandas 2.0.3 which is incompatible.\r\n",
            "momepy 0.6.0 requires shapely>=2, but you have shapely 1.8.5.post1 which is incompatible.\r\n",
            "pymc3 3.11.5 requires numpy<1.22.2,>=1.15.0, but you have numpy 1.23.5 which is incompatible.\r\n",
            "pymc3 3.11.5 requires scipy<1.8.0,>=1.7.3, but you have scipy 1.11.1 which is incompatible.\r\n",
            "woodwork 0.24.0 requires pandas<2.0.0,>=1.4.3, but you have pandas 2.0.3 which is incompatible.\r\n",
            "ydata-profiling 4.3.1 requires scipy<1.11,>=1.4.1, but you have scipy 1.11.1 which is incompatible.\u001b[0m\u001b[31m\r\n",
            "\u001b[0mSuccessfully installed jupyter-1.0.0 pandas-2.0.3 skimpy-0.0.9\r\n"
          ]
        }
      ],
      "source": [
        "!pip install skimpy"
      ]
    },
    {
      "cell_type": "markdown",
      "id": "f96a5d98",
      "metadata": {
        "papermill": {
          "duration": 0.029341,
          "end_time": "2023-08-05T21:00:12.133609",
          "exception": false,
          "start_time": "2023-08-05T21:00:12.104268",
          "status": "completed"
        },
        "tags": [],
        "id": "f96a5d98"
      },
      "source": [
        "# Exploratory analysis"
      ]
    },
    {
      "cell_type": "markdown",
      "id": "214fbe05",
      "metadata": {
        "papermill": {
          "duration": 0.025359,
          "end_time": "2023-08-05T21:00:12.184976",
          "exception": false,
          "start_time": "2023-08-05T21:00:12.159617",
          "status": "completed"
        },
        "tags": [],
        "id": "214fbe05"
      },
      "source": [
        "## Handling missing values"
      ]
    },
    {
      "cell_type": "code",
      "execution_count": null,
      "id": "d7b44365",
      "metadata": {
        "execution": {
          "iopub.execute_input": "2023-08-05T21:00:12.241786Z",
          "iopub.status.busy": "2023-08-05T21:00:12.241263Z",
          "iopub.status.idle": "2023-08-05T21:00:12.271814Z",
          "shell.execute_reply": "2023-08-05T21:00:12.270609Z"
        },
        "papermill": {
          "duration": 0.06143,
          "end_time": "2023-08-05T21:00:12.274556",
          "exception": false,
          "start_time": "2023-08-05T21:00:12.213126",
          "status": "completed"
        },
        "tags": [],
        "id": "d7b44365",
        "outputId": "cfa9fa9e-f4e5-4740-c070-e2314086007c"
      },
      "outputs": [
        {
          "name": "stdout",
          "output_type": "stream",
          "text": [
            "There's 5 columns with missing values.\n"
          ]
        },
        {
          "data": {
            "text/html": [
              "<div>\n",
              "<style scoped>\n",
              "    .dataframe tbody tr th:only-of-type {\n",
              "        vertical-align: middle;\n",
              "    }\n",
              "\n",
              "    .dataframe tbody tr th {\n",
              "        vertical-align: top;\n",
              "    }\n",
              "\n",
              "    .dataframe thead th {\n",
              "        text-align: right;\n",
              "    }\n",
              "</style>\n",
              "<table border=\"1\" class=\"dataframe\">\n",
              "  <thead>\n",
              "    <tr style=\"text-align: right;\">\n",
              "      <th></th>\n",
              "      <th>Missing Values</th>\n",
              "      <th>% of Total Values</th>\n",
              "    </tr>\n",
              "  </thead>\n",
              "  <tbody>\n",
              "    <tr>\n",
              "      <th>vit_a</th>\n",
              "      <td>214</td>\n",
              "      <td>41.6</td>\n",
              "    </tr>\n",
              "    <tr>\n",
              "      <th>vit_c</th>\n",
              "      <td>210</td>\n",
              "      <td>40.8</td>\n",
              "    </tr>\n",
              "    <tr>\n",
              "      <th>calcium</th>\n",
              "      <td>210</td>\n",
              "      <td>40.8</td>\n",
              "    </tr>\n",
              "    <tr>\n",
              "      <th>fiber</th>\n",
              "      <td>12</td>\n",
              "      <td>2.3</td>\n",
              "    </tr>\n",
              "    <tr>\n",
              "      <th>protein</th>\n",
              "      <td>1</td>\n",
              "      <td>0.2</td>\n",
              "    </tr>\n",
              "  </tbody>\n",
              "</table>\n",
              "</div>"
            ],
            "text/plain": [
              "         Missing Values  % of Total Values\n",
              "vit_a               214               41.6\n",
              "vit_c               210               40.8\n",
              "calcium             210               40.8\n",
              "fiber                12                2.3\n",
              "protein               1                0.2"
            ]
          },
          "execution_count": 17,
          "metadata": {},
          "output_type": "execute_result"
        }
      ],
      "source": [
        "def missing_values_table(df):\n",
        "        # Total missing values\n",
        "        mis_val = df.isnull().sum()\n",
        "\n",
        "        # Percentage of missing values\n",
        "        mis_val_percent = 100 * df.isnull().sum() / len(df)\n",
        "\n",
        "        # Make a table with the results\n",
        "        mis_val_table = pd.concat([mis_val, mis_val_percent], axis=1)\n",
        "\n",
        "        # Rename the columns\n",
        "        mis_val_table_ren_columns = mis_val_table.rename(\n",
        "        columns = {0 : 'Missing Values', 1 : '% of Total Values'})\n",
        "\n",
        "        # Sort the table by percentage of missing descending\n",
        "        mis_val_table_ren_columns = mis_val_table_ren_columns[\n",
        "            mis_val_table_ren_columns.iloc[:,1] != 0].sort_values(\n",
        "        '% of Total Values', ascending=False).round(1)\n",
        "\n",
        "        # Print some summary information\n",
        "        print (\"There's \" + str(mis_val_table_ren_columns.shape[0]) +\n",
        "              \" columns with missing values.\")\n",
        "\n",
        "        # Return the dataframe with missing information\n",
        "        return mis_val_table_ren_columns\n",
        "\n",
        "data_missing = missing_values_table(df)\n",
        "data_missing"
      ]
    },
    {
      "cell_type": "markdown",
      "id": "693f899f",
      "metadata": {
        "papermill": {
          "duration": 0.026682,
          "end_time": "2023-08-05T21:00:12.326953",
          "exception": false,
          "start_time": "2023-08-05T21:00:12.300271",
          "status": "completed"
        },
        "tags": [],
        "id": "693f899f"
      },
      "source": [
        "## Replacing missing values with 0"
      ]
    },
    {
      "cell_type": "code",
      "execution_count": null,
      "id": "39310252",
      "metadata": {
        "execution": {
          "iopub.execute_input": "2023-08-05T21:00:12.380460Z",
          "iopub.status.busy": "2023-08-05T21:00:12.379551Z",
          "iopub.status.idle": "2023-08-05T21:00:12.386278Z",
          "shell.execute_reply": "2023-08-05T21:00:12.385236Z"
        },
        "papermill": {
          "duration": 0.036598,
          "end_time": "2023-08-05T21:00:12.388961",
          "exception": false,
          "start_time": "2023-08-05T21:00:12.352363",
          "status": "completed"
        },
        "tags": [],
        "id": "39310252"
      },
      "outputs": [],
      "source": [
        "df.fillna(value=0, inplace=True)"
      ]
    },
    {
      "cell_type": "code",
      "execution_count": null,
      "id": "56d3062b",
      "metadata": {
        "execution": {
          "iopub.execute_input": "2023-08-05T21:00:12.442829Z",
          "iopub.status.busy": "2023-08-05T21:00:12.442013Z",
          "iopub.status.idle": "2023-08-05T21:00:12.452097Z",
          "shell.execute_reply": "2023-08-05T21:00:12.451186Z"
        },
        "papermill": {
          "duration": 0.039656,
          "end_time": "2023-08-05T21:00:12.454532",
          "exception": false,
          "start_time": "2023-08-05T21:00:12.414876",
          "status": "completed"
        },
        "tags": [],
        "id": "56d3062b",
        "outputId": "3c7f73d9-1f7b-4b09-f046-6ee119aaeb10"
      },
      "outputs": [
        {
          "data": {
            "text/plain": [
              "restaurant     0\n",
              "item           0\n",
              "calories       0\n",
              "cal_fat        0\n",
              "total_fat      0\n",
              "sat_fat        0\n",
              "trans_fat      0\n",
              "cholesterol    0\n",
              "sodium         0\n",
              "total_carb     0\n",
              "fiber          0\n",
              "sugar          0\n",
              "protein        0\n",
              "vit_a          0\n",
              "vit_c          0\n",
              "calcium        0\n",
              "salad          0\n",
              "dtype: int64"
            ]
          },
          "execution_count": 19,
          "metadata": {},
          "output_type": "execute_result"
        }
      ],
      "source": [
        "df.isnull().sum()"
      ]
    },
    {
      "cell_type": "markdown",
      "id": "2c563e2d",
      "metadata": {
        "papermill": {
          "duration": 0.0257,
          "end_time": "2023-08-05T21:00:12.507086",
          "exception": false,
          "start_time": "2023-08-05T21:00:12.481386",
          "status": "completed"
        },
        "tags": [],
        "id": "2c563e2d"
      },
      "source": [
        "## Statistical Analysis"
      ]
    },
    {
      "cell_type": "code",
      "execution_count": null,
      "id": "287c3ecc",
      "metadata": {
        "execution": {
          "iopub.execute_input": "2023-08-05T21:00:12.560808Z",
          "iopub.status.busy": "2023-08-05T21:00:12.560282Z",
          "iopub.status.idle": "2023-08-05T21:00:12.625868Z",
          "shell.execute_reply": "2023-08-05T21:00:12.624346Z"
        },
        "papermill": {
          "duration": 0.096257,
          "end_time": "2023-08-05T21:00:12.628814",
          "exception": false,
          "start_time": "2023-08-05T21:00:12.532557",
          "status": "completed"
        },
        "tags": [],
        "id": "287c3ecc",
        "outputId": "ce560713-1c33-4b5a-c5c1-5af8782e0226"
      },
      "outputs": [
        {
          "data": {
            "text/html": [
              "<div>\n",
              "<style scoped>\n",
              "    .dataframe tbody tr th:only-of-type {\n",
              "        vertical-align: middle;\n",
              "    }\n",
              "\n",
              "    .dataframe tbody tr th {\n",
              "        vertical-align: top;\n",
              "    }\n",
              "\n",
              "    .dataframe thead th {\n",
              "        text-align: right;\n",
              "    }\n",
              "</style>\n",
              "<table border=\"1\" class=\"dataframe\">\n",
              "  <thead>\n",
              "    <tr style=\"text-align: right;\">\n",
              "      <th></th>\n",
              "      <th>calories</th>\n",
              "      <th>cal_fat</th>\n",
              "      <th>total_fat</th>\n",
              "      <th>sat_fat</th>\n",
              "      <th>trans_fat</th>\n",
              "      <th>cholesterol</th>\n",
              "      <th>sodium</th>\n",
              "      <th>total_carb</th>\n",
              "      <th>fiber</th>\n",
              "      <th>sugar</th>\n",
              "      <th>protein</th>\n",
              "      <th>vit_a</th>\n",
              "      <th>vit_c</th>\n",
              "      <th>calcium</th>\n",
              "    </tr>\n",
              "  </thead>\n",
              "  <tbody>\n",
              "    <tr>\n",
              "      <th>count</th>\n",
              "      <td>515.000000</td>\n",
              "      <td>515.000000</td>\n",
              "      <td>515.000000</td>\n",
              "      <td>515.000000</td>\n",
              "      <td>515.000000</td>\n",
              "      <td>515.000000</td>\n",
              "      <td>515.000000</td>\n",
              "      <td>515.000000</td>\n",
              "      <td>515.000000</td>\n",
              "      <td>515.000000</td>\n",
              "      <td>515.000000</td>\n",
              "      <td>515.000000</td>\n",
              "      <td>515.000000</td>\n",
              "      <td>515.000000</td>\n",
              "    </tr>\n",
              "    <tr>\n",
              "      <th>mean</th>\n",
              "      <td>530.912621</td>\n",
              "      <td>238.813592</td>\n",
              "      <td>26.590291</td>\n",
              "      <td>8.153398</td>\n",
              "      <td>0.465049</td>\n",
              "      <td>72.456311</td>\n",
              "      <td>1246.737864</td>\n",
              "      <td>45.664078</td>\n",
              "      <td>4.040777</td>\n",
              "      <td>7.262136</td>\n",
              "      <td>27.836893</td>\n",
              "      <td>11.021359</td>\n",
              "      <td>11.945631</td>\n",
              "      <td>14.718447</td>\n",
              "    </tr>\n",
              "    <tr>\n",
              "      <th>std</th>\n",
              "      <td>282.436147</td>\n",
              "      <td>166.407510</td>\n",
              "      <td>18.411876</td>\n",
              "      <td>6.418811</td>\n",
              "      <td>0.839644</td>\n",
              "      <td>63.160406</td>\n",
              "      <td>689.954278</td>\n",
              "      <td>24.883342</td>\n",
              "      <td>3.066114</td>\n",
              "      <td>6.761301</td>\n",
              "      <td>17.709409</td>\n",
              "      <td>25.718045</td>\n",
              "      <td>25.533547</td>\n",
              "      <td>23.123513</td>\n",
              "    </tr>\n",
              "    <tr>\n",
              "      <th>min</th>\n",
              "      <td>20.000000</td>\n",
              "      <td>0.000000</td>\n",
              "      <td>0.000000</td>\n",
              "      <td>0.000000</td>\n",
              "      <td>0.000000</td>\n",
              "      <td>0.000000</td>\n",
              "      <td>15.000000</td>\n",
              "      <td>0.000000</td>\n",
              "      <td>0.000000</td>\n",
              "      <td>0.000000</td>\n",
              "      <td>0.000000</td>\n",
              "      <td>0.000000</td>\n",
              "      <td>0.000000</td>\n",
              "      <td>0.000000</td>\n",
              "    </tr>\n",
              "    <tr>\n",
              "      <th>25%</th>\n",
              "      <td>330.000000</td>\n",
              "      <td>120.000000</td>\n",
              "      <td>14.000000</td>\n",
              "      <td>4.000000</td>\n",
              "      <td>0.000000</td>\n",
              "      <td>35.000000</td>\n",
              "      <td>800.000000</td>\n",
              "      <td>28.500000</td>\n",
              "      <td>2.000000</td>\n",
              "      <td>3.000000</td>\n",
              "      <td>15.500000</td>\n",
              "      <td>0.000000</td>\n",
              "      <td>0.000000</td>\n",
              "      <td>0.000000</td>\n",
              "    </tr>\n",
              "    <tr>\n",
              "      <th>50%</th>\n",
              "      <td>490.000000</td>\n",
              "      <td>210.000000</td>\n",
              "      <td>23.000000</td>\n",
              "      <td>7.000000</td>\n",
              "      <td>0.000000</td>\n",
              "      <td>60.000000</td>\n",
              "      <td>1110.000000</td>\n",
              "      <td>44.000000</td>\n",
              "      <td>3.000000</td>\n",
              "      <td>6.000000</td>\n",
              "      <td>24.000000</td>\n",
              "      <td>2.000000</td>\n",
              "      <td>2.000000</td>\n",
              "      <td>6.000000</td>\n",
              "    </tr>\n",
              "    <tr>\n",
              "      <th>75%</th>\n",
              "      <td>690.000000</td>\n",
              "      <td>310.000000</td>\n",
              "      <td>35.000000</td>\n",
              "      <td>11.000000</td>\n",
              "      <td>1.000000</td>\n",
              "      <td>95.000000</td>\n",
              "      <td>1550.000000</td>\n",
              "      <td>57.000000</td>\n",
              "      <td>5.000000</td>\n",
              "      <td>9.000000</td>\n",
              "      <td>36.000000</td>\n",
              "      <td>15.000000</td>\n",
              "      <td>15.000000</td>\n",
              "      <td>25.000000</td>\n",
              "    </tr>\n",
              "    <tr>\n",
              "      <th>max</th>\n",
              "      <td>2430.000000</td>\n",
              "      <td>1270.000000</td>\n",
              "      <td>141.000000</td>\n",
              "      <td>47.000000</td>\n",
              "      <td>8.000000</td>\n",
              "      <td>805.000000</td>\n",
              "      <td>6080.000000</td>\n",
              "      <td>156.000000</td>\n",
              "      <td>17.000000</td>\n",
              "      <td>87.000000</td>\n",
              "      <td>186.000000</td>\n",
              "      <td>180.000000</td>\n",
              "      <td>400.000000</td>\n",
              "      <td>290.000000</td>\n",
              "    </tr>\n",
              "  </tbody>\n",
              "</table>\n",
              "</div>"
            ],
            "text/plain": [
              "          calories      cal_fat   total_fat     sat_fat   trans_fat  \\\n",
              "count   515.000000   515.000000  515.000000  515.000000  515.000000   \n",
              "mean    530.912621   238.813592   26.590291    8.153398    0.465049   \n",
              "std     282.436147   166.407510   18.411876    6.418811    0.839644   \n",
              "min      20.000000     0.000000    0.000000    0.000000    0.000000   \n",
              "25%     330.000000   120.000000   14.000000    4.000000    0.000000   \n",
              "50%     490.000000   210.000000   23.000000    7.000000    0.000000   \n",
              "75%     690.000000   310.000000   35.000000   11.000000    1.000000   \n",
              "max    2430.000000  1270.000000  141.000000   47.000000    8.000000   \n",
              "\n",
              "       cholesterol       sodium  total_carb       fiber       sugar  \\\n",
              "count   515.000000   515.000000  515.000000  515.000000  515.000000   \n",
              "mean     72.456311  1246.737864   45.664078    4.040777    7.262136   \n",
              "std      63.160406   689.954278   24.883342    3.066114    6.761301   \n",
              "min       0.000000    15.000000    0.000000    0.000000    0.000000   \n",
              "25%      35.000000   800.000000   28.500000    2.000000    3.000000   \n",
              "50%      60.000000  1110.000000   44.000000    3.000000    6.000000   \n",
              "75%      95.000000  1550.000000   57.000000    5.000000    9.000000   \n",
              "max     805.000000  6080.000000  156.000000   17.000000   87.000000   \n",
              "\n",
              "          protein       vit_a       vit_c     calcium  \n",
              "count  515.000000  515.000000  515.000000  515.000000  \n",
              "mean    27.836893   11.021359   11.945631   14.718447  \n",
              "std     17.709409   25.718045   25.533547   23.123513  \n",
              "min      0.000000    0.000000    0.000000    0.000000  \n",
              "25%     15.500000    0.000000    0.000000    0.000000  \n",
              "50%     24.000000    2.000000    2.000000    6.000000  \n",
              "75%     36.000000   15.000000   15.000000   25.000000  \n",
              "max    186.000000  180.000000  400.000000  290.000000  "
            ]
          },
          "execution_count": 20,
          "metadata": {},
          "output_type": "execute_result"
        }
      ],
      "source": [
        "df[['calories', 'cal_fat', 'total_fat', 'sat_fat', 'trans_fat',\n",
        "       'cholesterol', 'sodium', 'total_carb', 'fiber', 'sugar', 'protein',\n",
        "       'vit_a', 'vit_c', 'calcium']].describe()"
      ]
    },
    {
      "cell_type": "markdown",
      "id": "8fae2c8e",
      "metadata": {
        "papermill": {
          "duration": 0.025754,
          "end_time": "2023-08-05T21:00:12.680967",
          "exception": false,
          "start_time": "2023-08-05T21:00:12.655213",
          "status": "completed"
        },
        "tags": [],
        "id": "8fae2c8e"
      },
      "source": [
        "* 50% of our dataset has foods with 490 calories or less.\n",
        "\n",
        "* 75% of our dataset has foods with 20 vitamin A or less.\n",
        "\n",
        "* Columns with outliers: Calories, Cholesterol, Sodium, Vitamin A, calcium, protein, Vitamin C, total_fat, total_carb."
      ]
    },
    {
      "cell_type": "markdown",
      "id": "afb34e9d",
      "metadata": {
        "papermill": {
          "duration": 0.025358,
          "end_time": "2023-08-05T21:00:12.732684",
          "exception": false,
          "start_time": "2023-08-05T21:00:12.707326",
          "status": "completed"
        },
        "tags": [],
        "id": "afb34e9d"
      },
      "source": [
        "Pandas' describe method is pretty naive.\n",
        "\n",
        "Here's a richer alternative:\n",
        "\n",
        "* Skimpy is a Jupyter-based tool that provides a standardized and comprehensive data summary."
      ]
    },
    {
      "cell_type": "code",
      "execution_count": null,
      "id": "ffe521be",
      "metadata": {
        "execution": {
          "iopub.execute_input": "2023-08-05T21:00:12.788301Z",
          "iopub.status.busy": "2023-08-05T21:00:12.787849Z",
          "iopub.status.idle": "2023-08-05T21:00:13.075437Z",
          "shell.execute_reply": "2023-08-05T21:00:13.073978Z"
        },
        "papermill": {
          "duration": 0.320091,
          "end_time": "2023-08-05T21:00:13.079113",
          "exception": false,
          "start_time": "2023-08-05T21:00:12.759022",
          "status": "completed"
        },
        "tags": [],
        "id": "ffe521be",
        "outputId": "56474021-c49b-4836-cb1e-6af80f66ef63"
      },
      "outputs": [
        {
          "data": {
            "text/html": [
              "<pre style=\"white-space:pre;overflow-x:auto;line-height:normal;font-family:Menlo,'DejaVu Sans Mono',consolas,'Courier New',monospace\">╭──────────────────────────────────────────────── skimpy summary ─────────────────────────────────────────────────╮\n",
              "│ <span style=\"font-style: italic\">         Data Summary         </span> <span style=\"font-style: italic\">      Data Types       </span>                                                          │\n",
              "│ ┏━━━━━━━━━━━━━━━━━━━┳━━━━━━━━┓ ┏━━━━━━━━━━━━━┳━━━━━━━┓                                                          │\n",
              "│ ┃<span style=\"color: #008080; text-decoration-color: #008080; font-weight: bold\"> dataframe         </span>┃<span style=\"color: #008080; text-decoration-color: #008080; font-weight: bold\"> Values </span>┃ ┃<span style=\"color: #008080; text-decoration-color: #008080; font-weight: bold\"> Column Type </span>┃<span style=\"color: #008080; text-decoration-color: #008080; font-weight: bold\"> Count </span>┃                                                          │\n",
              "│ ┡━━━━━━━━━━━━━━━━━━━╇━━━━━━━━┩ ┡━━━━━━━━━━━━━╇━━━━━━━┩                                                          │\n",
              "│ │ Number of rows    │ 515    │ │ int64       │ 7     │                                                          │\n",
              "│ │ Number of columns │ 17     │ │ float64     │ 7     │                                                          │\n",
              "│ └───────────────────┴────────┘ │ string      │ 3     │                                                          │\n",
              "│                                └─────────────┴───────┘                                                          │\n",
              "│ <span style=\"font-style: italic\">                                                    number                                                    </span>  │\n",
              "│ ┏━━━━━━━━━━━━━━━━━━━━━┳━━━━━━━┳━━━━━━━━━━┳━━━━━━━━━┳━━━━━━━━━┳━━━━━━┳━━━━━━━━┳━━━━━━━━━┳━━━━━━━━━┳━━━━━━━━━━━┓  │\n",
              "│ ┃<span style=\"font-weight: bold\"> column_name         </span>┃<span style=\"font-weight: bold\"> NA    </span>┃<span style=\"font-weight: bold\"> NA %     </span>┃<span style=\"font-weight: bold\"> mean    </span>┃<span style=\"font-weight: bold\"> sd      </span>┃<span style=\"font-weight: bold\"> p0   </span>┃<span style=\"font-weight: bold\"> p25    </span>┃<span style=\"font-weight: bold\"> p75     </span>┃<span style=\"font-weight: bold\"> p100    </span>┃<span style=\"font-weight: bold\"> hist      </span>┃  │\n",
              "│ ┡━━━━━━━━━━━━━━━━━━━━━╇━━━━━━━╇━━━━━━━━━━╇━━━━━━━━━╇━━━━━━━━━╇━━━━━━╇━━━━━━━━╇━━━━━━━━━╇━━━━━━━━━╇━━━━━━━━━━━┩  │\n",
              "│ │ <span style=\"color: #af87ff; text-decoration-color: #af87ff\">calories           </span> │ <span style=\"color: #008080; text-decoration-color: #008080\">    0</span> │ <span style=\"color: #008080; text-decoration-color: #008080\">       0</span> │ <span style=\"color: #008080; text-decoration-color: #008080\">    530</span> │ <span style=\"color: #008080; text-decoration-color: #008080\">    280</span> │ <span style=\"color: #008080; text-decoration-color: #008080\">  20</span> │ <span style=\"color: #008080; text-decoration-color: #008080\">   330</span> │ <span style=\"color: #008080; text-decoration-color: #008080\">    690</span> │ <span style=\"color: #008080; text-decoration-color: #008080\">   2400</span> │ <span style=\"color: #008000; text-decoration-color: #008000\">   ▇█▂   </span> │  │\n",
              "│ │ <span style=\"color: #af87ff; text-decoration-color: #af87ff\">cal_fat            </span> │ <span style=\"color: #008080; text-decoration-color: #008080\">    0</span> │ <span style=\"color: #008080; text-decoration-color: #008080\">       0</span> │ <span style=\"color: #008080; text-decoration-color: #008080\">    240</span> │ <span style=\"color: #008080; text-decoration-color: #008080\">    170</span> │ <span style=\"color: #008080; text-decoration-color: #008080\">   0</span> │ <span style=\"color: #008080; text-decoration-color: #008080\">   120</span> │ <span style=\"color: #008080; text-decoration-color: #008080\">    310</span> │ <span style=\"color: #008080; text-decoration-color: #008080\">   1300</span> │ <span style=\"color: #008000; text-decoration-color: #008000\">   █▆▁   </span> │  │\n",
              "│ │ <span style=\"color: #af87ff; text-decoration-color: #af87ff\">total_fat          </span> │ <span style=\"color: #008080; text-decoration-color: #008080\">    0</span> │ <span style=\"color: #008080; text-decoration-color: #008080\">       0</span> │ <span style=\"color: #008080; text-decoration-color: #008080\">     27</span> │ <span style=\"color: #008080; text-decoration-color: #008080\">     18</span> │ <span style=\"color: #008080; text-decoration-color: #008080\">   0</span> │ <span style=\"color: #008080; text-decoration-color: #008080\">    14</span> │ <span style=\"color: #008080; text-decoration-color: #008080\">     35</span> │ <span style=\"color: #008080; text-decoration-color: #008080\">    140</span> │ <span style=\"color: #008000; text-decoration-color: #008000\">   █▆▁   </span> │  │\n",
              "│ │ <span style=\"color: #af87ff; text-decoration-color: #af87ff\">sat_fat            </span> │ <span style=\"color: #008080; text-decoration-color: #008080\">    0</span> │ <span style=\"color: #008080; text-decoration-color: #008080\">       0</span> │ <span style=\"color: #008080; text-decoration-color: #008080\">    8.2</span> │ <span style=\"color: #008080; text-decoration-color: #008080\">    6.4</span> │ <span style=\"color: #008080; text-decoration-color: #008080\">   0</span> │ <span style=\"color: #008080; text-decoration-color: #008080\">     4</span> │ <span style=\"color: #008080; text-decoration-color: #008080\">     11</span> │ <span style=\"color: #008080; text-decoration-color: #008080\">     47</span> │ <span style=\"color: #008000; text-decoration-color: #008000\">   █▅▁   </span> │  │\n",
              "│ │ <span style=\"color: #af87ff; text-decoration-color: #af87ff\">trans_fat          </span> │ <span style=\"color: #008080; text-decoration-color: #008080\">    0</span> │ <span style=\"color: #008080; text-decoration-color: #008080\">       0</span> │ <span style=\"color: #008080; text-decoration-color: #008080\">   0.47</span> │ <span style=\"color: #008080; text-decoration-color: #008080\">   0.84</span> │ <span style=\"color: #008080; text-decoration-color: #008080\">   0</span> │ <span style=\"color: #008080; text-decoration-color: #008080\">     0</span> │ <span style=\"color: #008080; text-decoration-color: #008080\">      1</span> │ <span style=\"color: #008080; text-decoration-color: #008080\">      8</span> │ <span style=\"color: #008000; text-decoration-color: #008000\">   █▁    </span> │  │\n",
              "│ │ <span style=\"color: #af87ff; text-decoration-color: #af87ff\">cholesterol        </span> │ <span style=\"color: #008080; text-decoration-color: #008080\">    0</span> │ <span style=\"color: #008080; text-decoration-color: #008080\">       0</span> │ <span style=\"color: #008080; text-decoration-color: #008080\">     72</span> │ <span style=\"color: #008080; text-decoration-color: #008080\">     63</span> │ <span style=\"color: #008080; text-decoration-color: #008080\">   0</span> │ <span style=\"color: #008080; text-decoration-color: #008080\">    35</span> │ <span style=\"color: #008080; text-decoration-color: #008080\">     95</span> │ <span style=\"color: #008080; text-decoration-color: #008080\">    800</span> │ <span style=\"color: #008000; text-decoration-color: #008000\">   █▁    </span> │  │\n",
              "│ │ <span style=\"color: #af87ff; text-decoration-color: #af87ff\">sodium             </span> │ <span style=\"color: #008080; text-decoration-color: #008080\">    0</span> │ <span style=\"color: #008080; text-decoration-color: #008080\">       0</span> │ <span style=\"color: #008080; text-decoration-color: #008080\">   1200</span> │ <span style=\"color: #008080; text-decoration-color: #008080\">    690</span> │ <span style=\"color: #008080; text-decoration-color: #008080\">  15</span> │ <span style=\"color: #008080; text-decoration-color: #008080\">   800</span> │ <span style=\"color: #008080; text-decoration-color: #008080\">   1600</span> │ <span style=\"color: #008080; text-decoration-color: #008080\">   6100</span> │ <span style=\"color: #008000; text-decoration-color: #008000\">   ▇█▁   </span> │  │\n",
              "│ │ <span style=\"color: #af87ff; text-decoration-color: #af87ff\">total_carb         </span> │ <span style=\"color: #008080; text-decoration-color: #008080\">    0</span> │ <span style=\"color: #008080; text-decoration-color: #008080\">       0</span> │ <span style=\"color: #008080; text-decoration-color: #008080\">     46</span> │ <span style=\"color: #008080; text-decoration-color: #008080\">     25</span> │ <span style=\"color: #008080; text-decoration-color: #008080\">   0</span> │ <span style=\"color: #008080; text-decoration-color: #008080\">    28</span> │ <span style=\"color: #008080; text-decoration-color: #008080\">     57</span> │ <span style=\"color: #008080; text-decoration-color: #008080\">    160</span> │ <span style=\"color: #008000; text-decoration-color: #008000\">  ▃█▄▂   </span> │  │\n",
              "│ │ <span style=\"color: #af87ff; text-decoration-color: #af87ff\">fiber              </span> │ <span style=\"color: #008080; text-decoration-color: #008080\">    0</span> │ <span style=\"color: #008080; text-decoration-color: #008080\">       0</span> │ <span style=\"color: #008080; text-decoration-color: #008080\">      4</span> │ <span style=\"color: #008080; text-decoration-color: #008080\">    3.1</span> │ <span style=\"color: #008080; text-decoration-color: #008080\">   0</span> │ <span style=\"color: #008080; text-decoration-color: #008080\">     2</span> │ <span style=\"color: #008080; text-decoration-color: #008080\">      5</span> │ <span style=\"color: #008080; text-decoration-color: #008080\">     17</span> │ <span style=\"color: #008000; text-decoration-color: #008000\">  ▇█▂▂   </span> │  │\n",
              "│ │ <span style=\"color: #af87ff; text-decoration-color: #af87ff\">sugar              </span> │ <span style=\"color: #008080; text-decoration-color: #008080\">    0</span> │ <span style=\"color: #008080; text-decoration-color: #008080\">       0</span> │ <span style=\"color: #008080; text-decoration-color: #008080\">    7.3</span> │ <span style=\"color: #008080; text-decoration-color: #008080\">    6.8</span> │ <span style=\"color: #008080; text-decoration-color: #008080\">   0</span> │ <span style=\"color: #008080; text-decoration-color: #008080\">     3</span> │ <span style=\"color: #008080; text-decoration-color: #008080\">      9</span> │ <span style=\"color: #008080; text-decoration-color: #008080\">     87</span> │ <span style=\"color: #008000; text-decoration-color: #008000\">   █▁    </span> │  │\n",
              "│ │ <span style=\"color: #af87ff; text-decoration-color: #af87ff\">protein            </span> │ <span style=\"color: #008080; text-decoration-color: #008080\">    0</span> │ <span style=\"color: #008080; text-decoration-color: #008080\">       0</span> │ <span style=\"color: #008080; text-decoration-color: #008080\">     28</span> │ <span style=\"color: #008080; text-decoration-color: #008080\">     18</span> │ <span style=\"color: #008080; text-decoration-color: #008080\">   0</span> │ <span style=\"color: #008080; text-decoration-color: #008080\">    16</span> │ <span style=\"color: #008080; text-decoration-color: #008080\">     36</span> │ <span style=\"color: #008080; text-decoration-color: #008080\">    190</span> │ <span style=\"color: #008000; text-decoration-color: #008000\">   █▄    </span> │  │\n",
              "│ │ <span style=\"color: #af87ff; text-decoration-color: #af87ff\">vit_a              </span> │ <span style=\"color: #008080; text-decoration-color: #008080\">    0</span> │ <span style=\"color: #008080; text-decoration-color: #008080\">       0</span> │ <span style=\"color: #008080; text-decoration-color: #008080\">     11</span> │ <span style=\"color: #008080; text-decoration-color: #008080\">     26</span> │ <span style=\"color: #008080; text-decoration-color: #008080\">   0</span> │ <span style=\"color: #008080; text-decoration-color: #008080\">     0</span> │ <span style=\"color: #008080; text-decoration-color: #008080\">     15</span> │ <span style=\"color: #008080; text-decoration-color: #008080\">    180</span> │ <span style=\"color: #008000; text-decoration-color: #008000\">   █▁    </span> │  │\n",
              "│ │ <span style=\"color: #af87ff; text-decoration-color: #af87ff\">vit_c              </span> │ <span style=\"color: #008080; text-decoration-color: #008080\">    0</span> │ <span style=\"color: #008080; text-decoration-color: #008080\">       0</span> │ <span style=\"color: #008080; text-decoration-color: #008080\">     12</span> │ <span style=\"color: #008080; text-decoration-color: #008080\">     26</span> │ <span style=\"color: #008080; text-decoration-color: #008080\">   0</span> │ <span style=\"color: #008080; text-decoration-color: #008080\">     0</span> │ <span style=\"color: #008080; text-decoration-color: #008080\">     15</span> │ <span style=\"color: #008080; text-decoration-color: #008080\">    400</span> │ <span style=\"color: #008000; text-decoration-color: #008000\">    █    </span> │  │\n",
              "│ │ <span style=\"color: #af87ff; text-decoration-color: #af87ff\">calcium            </span> │ <span style=\"color: #008080; text-decoration-color: #008080\">    0</span> │ <span style=\"color: #008080; text-decoration-color: #008080\">       0</span> │ <span style=\"color: #008080; text-decoration-color: #008080\">     15</span> │ <span style=\"color: #008080; text-decoration-color: #008080\">     23</span> │ <span style=\"color: #008080; text-decoration-color: #008080\">   0</span> │ <span style=\"color: #008080; text-decoration-color: #008080\">     0</span> │ <span style=\"color: #008080; text-decoration-color: #008080\">     25</span> │ <span style=\"color: #008080; text-decoration-color: #008080\">    290</span> │ <span style=\"color: #008000; text-decoration-color: #008000\">   █▁    </span> │  │\n",
              "│ └─────────────────────┴───────┴──────────┴─────────┴─────────┴──────┴────────┴─────────┴─────────┴───────────┘  │\n",
              "│ <span style=\"font-style: italic\">                                                    string                                                    </span>  │\n",
              "│ ┏━━━━━━━━━━━━━━━━━━━━━━━━━━━┳━━━━━━━━━┳━━━━━━━━━━━━┳━━━━━━━━━━━━━━━━━━━━━━━━━━━━━━┳━━━━━━━━━━━━━━━━━━━━━━━━━━┓  │\n",
              "│ ┃<span style=\"font-weight: bold\"> column_name               </span>┃<span style=\"font-weight: bold\"> NA      </span>┃<span style=\"font-weight: bold\"> NA %       </span>┃<span style=\"font-weight: bold\"> words per row                </span>┃<span style=\"font-weight: bold\"> total words              </span>┃  │\n",
              "│ ┡━━━━━━━━━━━━━━━━━━━━━━━━━━━╇━━━━━━━━━╇━━━━━━━━━━━━╇━━━━━━━━━━━━━━━━━━━━━━━━━━━━━━╇━━━━━━━━━━━━━━━━━━━━━━━━━━┩  │\n",
              "│ │ <span style=\"color: #af87ff; text-decoration-color: #af87ff\">restaurant               </span> │ <span style=\"color: #008080; text-decoration-color: #008080\">      0</span> │ <span style=\"color: #008080; text-decoration-color: #008080\">         0</span> │ <span style=\"color: #008080; text-decoration-color: #008080\">                         1.5</span> │ <span style=\"color: #008080; text-decoration-color: #008080\">                     769</span> │  │\n",
              "│ │ <span style=\"color: #af87ff; text-decoration-color: #af87ff\">item                     </span> │ <span style=\"color: #008080; text-decoration-color: #008080\">      0</span> │ <span style=\"color: #008080; text-decoration-color: #008080\">         0</span> │ <span style=\"color: #008080; text-decoration-color: #008080\">                         1.5</span> │ <span style=\"color: #008080; text-decoration-color: #008080\">                     769</span> │  │\n",
              "│ │ <span style=\"color: #af87ff; text-decoration-color: #af87ff\">salad                    </span> │ <span style=\"color: #008080; text-decoration-color: #008080\">      0</span> │ <span style=\"color: #008080; text-decoration-color: #008080\">         0</span> │ <span style=\"color: #008080; text-decoration-color: #008080\">                         1.5</span> │ <span style=\"color: #008080; text-decoration-color: #008080\">                     769</span> │  │\n",
              "│ └───────────────────────────┴─────────┴────────────┴──────────────────────────────┴──────────────────────────┘  │\n",
              "╰────────────────────────────────────────────────────── End ──────────────────────────────────────────────────────╯\n",
              "</pre>\n"
            ],
            "text/plain": [
              "╭──────────────────────────────────────────────── skimpy summary ─────────────────────────────────────────────────╮\n",
              "│ \u001b[3m         Data Summary         \u001b[0m \u001b[3m      Data Types       \u001b[0m                                                          │\n",
              "│ ┏━━━━━━━━━━━━━━━━━━━┳━━━━━━━━┓ ┏━━━━━━━━━━━━━┳━━━━━━━┓                                                          │\n",
              "│ ┃\u001b[1;36m \u001b[0m\u001b[1;36mdataframe        \u001b[0m\u001b[1;36m \u001b[0m┃\u001b[1;36m \u001b[0m\u001b[1;36mValues\u001b[0m\u001b[1;36m \u001b[0m┃ ┃\u001b[1;36m \u001b[0m\u001b[1;36mColumn Type\u001b[0m\u001b[1;36m \u001b[0m┃\u001b[1;36m \u001b[0m\u001b[1;36mCount\u001b[0m\u001b[1;36m \u001b[0m┃                                                          │\n",
              "│ ┡━━━━━━━━━━━━━━━━━━━╇━━━━━━━━┩ ┡━━━━━━━━━━━━━╇━━━━━━━┩                                                          │\n",
              "│ │ Number of rows    │ 515    │ │ int64       │ 7     │                                                          │\n",
              "│ │ Number of columns │ 17     │ │ float64     │ 7     │                                                          │\n",
              "│ └───────────────────┴────────┘ │ string      │ 3     │                                                          │\n",
              "│                                └─────────────┴───────┘                                                          │\n",
              "│ \u001b[3m                                                    number                                                    \u001b[0m  │\n",
              "│ ┏━━━━━━━━━━━━━━━━━━━━━┳━━━━━━━┳━━━━━━━━━━┳━━━━━━━━━┳━━━━━━━━━┳━━━━━━┳━━━━━━━━┳━━━━━━━━━┳━━━━━━━━━┳━━━━━━━━━━━┓  │\n",
              "│ ┃\u001b[1m \u001b[0m\u001b[1mcolumn_name        \u001b[0m\u001b[1m \u001b[0m┃\u001b[1m \u001b[0m\u001b[1mNA   \u001b[0m\u001b[1m \u001b[0m┃\u001b[1m \u001b[0m\u001b[1mNA %    \u001b[0m\u001b[1m \u001b[0m┃\u001b[1m \u001b[0m\u001b[1mmean   \u001b[0m\u001b[1m \u001b[0m┃\u001b[1m \u001b[0m\u001b[1msd     \u001b[0m\u001b[1m \u001b[0m┃\u001b[1m \u001b[0m\u001b[1mp0  \u001b[0m\u001b[1m \u001b[0m┃\u001b[1m \u001b[0m\u001b[1mp25   \u001b[0m\u001b[1m \u001b[0m┃\u001b[1m \u001b[0m\u001b[1mp75    \u001b[0m\u001b[1m \u001b[0m┃\u001b[1m \u001b[0m\u001b[1mp100   \u001b[0m\u001b[1m \u001b[0m┃\u001b[1m \u001b[0m\u001b[1mhist     \u001b[0m\u001b[1m \u001b[0m┃  │\n",
              "│ ┡━━━━━━━━━━━━━━━━━━━━━╇━━━━━━━╇━━━━━━━━━━╇━━━━━━━━━╇━━━━━━━━━╇━━━━━━╇━━━━━━━━╇━━━━━━━━━╇━━━━━━━━━╇━━━━━━━━━━━┩  │\n",
              "│ │ \u001b[38;5;141mcalories           \u001b[0m │ \u001b[36m    0\u001b[0m │ \u001b[36m       0\u001b[0m │ \u001b[36m    530\u001b[0m │ \u001b[36m    280\u001b[0m │ \u001b[36m  20\u001b[0m │ \u001b[36m   330\u001b[0m │ \u001b[36m    690\u001b[0m │ \u001b[36m   2400\u001b[0m │ \u001b[32m   ▇█▂   \u001b[0m │  │\n",
              "│ │ \u001b[38;5;141mcal_fat            \u001b[0m │ \u001b[36m    0\u001b[0m │ \u001b[36m       0\u001b[0m │ \u001b[36m    240\u001b[0m │ \u001b[36m    170\u001b[0m │ \u001b[36m   0\u001b[0m │ \u001b[36m   120\u001b[0m │ \u001b[36m    310\u001b[0m │ \u001b[36m   1300\u001b[0m │ \u001b[32m   █▆▁   \u001b[0m │  │\n",
              "│ │ \u001b[38;5;141mtotal_fat          \u001b[0m │ \u001b[36m    0\u001b[0m │ \u001b[36m       0\u001b[0m │ \u001b[36m     27\u001b[0m │ \u001b[36m     18\u001b[0m │ \u001b[36m   0\u001b[0m │ \u001b[36m    14\u001b[0m │ \u001b[36m     35\u001b[0m │ \u001b[36m    140\u001b[0m │ \u001b[32m   █▆▁   \u001b[0m │  │\n",
              "│ │ \u001b[38;5;141msat_fat            \u001b[0m │ \u001b[36m    0\u001b[0m │ \u001b[36m       0\u001b[0m │ \u001b[36m    8.2\u001b[0m │ \u001b[36m    6.4\u001b[0m │ \u001b[36m   0\u001b[0m │ \u001b[36m     4\u001b[0m │ \u001b[36m     11\u001b[0m │ \u001b[36m     47\u001b[0m │ \u001b[32m   █▅▁   \u001b[0m │  │\n",
              "│ │ \u001b[38;5;141mtrans_fat          \u001b[0m │ \u001b[36m    0\u001b[0m │ \u001b[36m       0\u001b[0m │ \u001b[36m   0.47\u001b[0m │ \u001b[36m   0.84\u001b[0m │ \u001b[36m   0\u001b[0m │ \u001b[36m     0\u001b[0m │ \u001b[36m      1\u001b[0m │ \u001b[36m      8\u001b[0m │ \u001b[32m   █▁    \u001b[0m │  │\n",
              "│ │ \u001b[38;5;141mcholesterol        \u001b[0m │ \u001b[36m    0\u001b[0m │ \u001b[36m       0\u001b[0m │ \u001b[36m     72\u001b[0m │ \u001b[36m     63\u001b[0m │ \u001b[36m   0\u001b[0m │ \u001b[36m    35\u001b[0m │ \u001b[36m     95\u001b[0m │ \u001b[36m    800\u001b[0m │ \u001b[32m   █▁    \u001b[0m │  │\n",
              "│ │ \u001b[38;5;141msodium             \u001b[0m │ \u001b[36m    0\u001b[0m │ \u001b[36m       0\u001b[0m │ \u001b[36m   1200\u001b[0m │ \u001b[36m    690\u001b[0m │ \u001b[36m  15\u001b[0m │ \u001b[36m   800\u001b[0m │ \u001b[36m   1600\u001b[0m │ \u001b[36m   6100\u001b[0m │ \u001b[32m   ▇█▁   \u001b[0m │  │\n",
              "│ │ \u001b[38;5;141mtotal_carb         \u001b[0m │ \u001b[36m    0\u001b[0m │ \u001b[36m       0\u001b[0m │ \u001b[36m     46\u001b[0m │ \u001b[36m     25\u001b[0m │ \u001b[36m   0\u001b[0m │ \u001b[36m    28\u001b[0m │ \u001b[36m     57\u001b[0m │ \u001b[36m    160\u001b[0m │ \u001b[32m  ▃█▄▂   \u001b[0m │  │\n",
              "│ │ \u001b[38;5;141mfiber              \u001b[0m │ \u001b[36m    0\u001b[0m │ \u001b[36m       0\u001b[0m │ \u001b[36m      4\u001b[0m │ \u001b[36m    3.1\u001b[0m │ \u001b[36m   0\u001b[0m │ \u001b[36m     2\u001b[0m │ \u001b[36m      5\u001b[0m │ \u001b[36m     17\u001b[0m │ \u001b[32m  ▇█▂▂   \u001b[0m │  │\n",
              "│ │ \u001b[38;5;141msugar              \u001b[0m │ \u001b[36m    0\u001b[0m │ \u001b[36m       0\u001b[0m │ \u001b[36m    7.3\u001b[0m │ \u001b[36m    6.8\u001b[0m │ \u001b[36m   0\u001b[0m │ \u001b[36m     3\u001b[0m │ \u001b[36m      9\u001b[0m │ \u001b[36m     87\u001b[0m │ \u001b[32m   █▁    \u001b[0m │  │\n",
              "│ │ \u001b[38;5;141mprotein            \u001b[0m │ \u001b[36m    0\u001b[0m │ \u001b[36m       0\u001b[0m │ \u001b[36m     28\u001b[0m │ \u001b[36m     18\u001b[0m │ \u001b[36m   0\u001b[0m │ \u001b[36m    16\u001b[0m │ \u001b[36m     36\u001b[0m │ \u001b[36m    190\u001b[0m │ \u001b[32m   █▄    \u001b[0m │  │\n",
              "│ │ \u001b[38;5;141mvit_a              \u001b[0m │ \u001b[36m    0\u001b[0m │ \u001b[36m       0\u001b[0m │ \u001b[36m     11\u001b[0m │ \u001b[36m     26\u001b[0m │ \u001b[36m   0\u001b[0m │ \u001b[36m     0\u001b[0m │ \u001b[36m     15\u001b[0m │ \u001b[36m    180\u001b[0m │ \u001b[32m   █▁    \u001b[0m │  │\n",
              "│ │ \u001b[38;5;141mvit_c              \u001b[0m │ \u001b[36m    0\u001b[0m │ \u001b[36m       0\u001b[0m │ \u001b[36m     12\u001b[0m │ \u001b[36m     26\u001b[0m │ \u001b[36m   0\u001b[0m │ \u001b[36m     0\u001b[0m │ \u001b[36m     15\u001b[0m │ \u001b[36m    400\u001b[0m │ \u001b[32m    █    \u001b[0m │  │\n",
              "│ │ \u001b[38;5;141mcalcium            \u001b[0m │ \u001b[36m    0\u001b[0m │ \u001b[36m       0\u001b[0m │ \u001b[36m     15\u001b[0m │ \u001b[36m     23\u001b[0m │ \u001b[36m   0\u001b[0m │ \u001b[36m     0\u001b[0m │ \u001b[36m     25\u001b[0m │ \u001b[36m    290\u001b[0m │ \u001b[32m   █▁    \u001b[0m │  │\n",
              "│ └─────────────────────┴───────┴──────────┴─────────┴─────────┴──────┴────────┴─────────┴─────────┴───────────┘  │\n",
              "│ \u001b[3m                                                    string                                                    \u001b[0m  │\n",
              "│ ┏━━━━━━━━━━━━━━━━━━━━━━━━━━━┳━━━━━━━━━┳━━━━━━━━━━━━┳━━━━━━━━━━━━━━━━━━━━━━━━━━━━━━┳━━━━━━━━━━━━━━━━━━━━━━━━━━┓  │\n",
              "│ ┃\u001b[1m \u001b[0m\u001b[1mcolumn_name              \u001b[0m\u001b[1m \u001b[0m┃\u001b[1m \u001b[0m\u001b[1mNA     \u001b[0m\u001b[1m \u001b[0m┃\u001b[1m \u001b[0m\u001b[1mNA %      \u001b[0m\u001b[1m \u001b[0m┃\u001b[1m \u001b[0m\u001b[1mwords per row               \u001b[0m\u001b[1m \u001b[0m┃\u001b[1m \u001b[0m\u001b[1mtotal words             \u001b[0m\u001b[1m \u001b[0m┃  │\n",
              "│ ┡━━━━━━━━━━━━━━━━━━━━━━━━━━━╇━━━━━━━━━╇━━━━━━━━━━━━╇━━━━━━━━━━━━━━━━━━━━━━━━━━━━━━╇━━━━━━━━━━━━━━━━━━━━━━━━━━┩  │\n",
              "│ │ \u001b[38;5;141mrestaurant               \u001b[0m │ \u001b[36m      0\u001b[0m │ \u001b[36m         0\u001b[0m │ \u001b[36m                         1.5\u001b[0m │ \u001b[36m                     769\u001b[0m │  │\n",
              "│ │ \u001b[38;5;141mitem                     \u001b[0m │ \u001b[36m      0\u001b[0m │ \u001b[36m         0\u001b[0m │ \u001b[36m                         1.5\u001b[0m │ \u001b[36m                     769\u001b[0m │  │\n",
              "│ │ \u001b[38;5;141msalad                    \u001b[0m │ \u001b[36m      0\u001b[0m │ \u001b[36m         0\u001b[0m │ \u001b[36m                         1.5\u001b[0m │ \u001b[36m                     769\u001b[0m │  │\n",
              "│ └───────────────────────────┴─────────┴────────────┴──────────────────────────────┴──────────────────────────┘  │\n",
              "╰────────────────────────────────────────────────────── End ──────────────────────────────────────────────────────╯\n"
            ]
          },
          "metadata": {},
          "output_type": "display_data"
        }
      ],
      "source": [
        "from skimpy import skim\n",
        "skim(df)"
      ]
    },
    {
      "cell_type": "markdown",
      "id": "8d05d4ae",
      "metadata": {
        "papermill": {
          "duration": 0.026753,
          "end_time": "2023-08-05T21:00:13.133549",
          "exception": false,
          "start_time": "2023-08-05T21:00:13.106796",
          "status": "completed"
        },
        "tags": [],
        "id": "8d05d4ae"
      },
      "source": [
        "## Detecting Outliers using Boxplot"
      ]
    },
    {
      "cell_type": "markdown",
      "id": "2ac45c0c",
      "metadata": {
        "papermill": {
          "duration": 0.026573,
          "end_time": "2023-08-05T21:00:13.187386",
          "exception": false,
          "start_time": "2023-08-05T21:00:13.160813",
          "status": "completed"
        },
        "tags": [],
        "id": "2ac45c0c"
      },
      "source": [
        "Boxplot is the best way to see outliers."
      ]
    },
    {
      "cell_type": "code",
      "execution_count": null,
      "id": "ec43a2bc",
      "metadata": {
        "execution": {
          "iopub.execute_input": "2023-08-05T21:00:13.246193Z",
          "iopub.status.busy": "2023-08-05T21:00:13.245722Z",
          "iopub.status.idle": "2023-08-05T21:00:15.431149Z",
          "shell.execute_reply": "2023-08-05T21:00:15.429731Z"
        },
        "papermill": {
          "duration": 2.218264,
          "end_time": "2023-08-05T21:00:15.434561",
          "exception": false,
          "start_time": "2023-08-05T21:00:13.216297",
          "status": "completed"
        },
        "tags": [],
        "id": "ec43a2bc",
        "outputId": "08d8a18a-1ccb-466c-d41c-0e930ed0016f"
      },
      "outputs": [
        {
          "data": {
            "image/png": "[encoded data removed]",
            "text/plain": [
              "<Figure size 1800x1400 with 9 Axes>"
            ]
          },
          "metadata": {},
          "output_type": "display_data"
        }
      ],
      "source": [
        "fig, axes = plt.subplots(3, 3, figsize=(18, 14))\n",
        "\n",
        "axes[0, 0].boxplot(df.calories)\n",
        "axes[0, 0].set_xlabel('Calories')\n",
        "axes[0, 0].set_ylabel('Count')\n",
        "axes[0, 0].set_title(r'Boxplot - Calories')\n",
        "\n",
        "axes[0, 1].boxplot(df.cholesterol)\n",
        "axes[0, 1].set_xlabel('Cholesterol')\n",
        "axes[0, 1].set_ylabel('Count')\n",
        "axes[0, 1].set_title(r'Boxplot - Cholesterol')\n",
        "\n",
        "axes[0, 2].boxplot(df.sodium)\n",
        "axes[0, 2].set_xlabel('Sodium')\n",
        "axes[0, 2].set_ylabel('Count')\n",
        "axes[0, 2].set_title(r'Boxplot - Sodium')\n",
        "\n",
        "axes[1, 0].boxplot(df.vit_a)\n",
        "axes[1, 0].set_xlabel('Vitamin A')\n",
        "axes[1, 0].set_ylabel('Count')\n",
        "axes[1, 0].set_title(r'Boxplot - Vitamin A')\n",
        "\n",
        "axes[1, 1].boxplot(df.calcium)\n",
        "axes[1, 1].set_xlabel('Calcium')\n",
        "axes[1, 1].set_ylabel('Count')\n",
        "axes[1, 1].set_title(r'Boxplot - Calcium')\n",
        "\n",
        "axes[1, 2].boxplot(df.protein)\n",
        "axes[1, 2].set_xlabel('Protein')\n",
        "axes[1, 2].set_ylabel('Count')\n",
        "axes[1, 2].set_title(r'Boxplot - Protein')\n",
        "\n",
        "axes[2, 0].boxplot(df.total_fat)\n",
        "axes[2, 0].set_xlabel('Total Fat')\n",
        "axes[2, 0].set_ylabel('Count')\n",
        "axes[2, 0].set_title(r'Boxplot - Total Fat')\n",
        "\n",
        "axes[2, 1].boxplot(df.total_carb)\n",
        "axes[2, 1].set_xlabel('Total Carb')\n",
        "axes[2, 1].set_ylabel('Count')\n",
        "axes[2, 1].set_title(r'Boxplot - Total Carb')\n",
        "\n",
        "axes[2, 2].boxplot(df.vit_c)\n",
        "axes[2, 2].set_xlabel('Vitamin C')\n",
        "axes[2, 2].set_ylabel('Count')\n",
        "axes[2, 2].set_title(r'Boxplot - Vitamin C')\n",
        "\n",
        "\n",
        "\n",
        "fig.tight_layout()\n",
        "plt.show()"
      ]
    },
    {
      "cell_type": "markdown",
      "id": "ccb20efc",
      "metadata": {
        "papermill": {
          "duration": 0.028059,
          "end_time": "2023-08-05T21:00:15.491604",
          "exception": false,
          "start_time": "2023-08-05T21:00:15.463545",
          "status": "completed"
        },
        "tags": [],
        "id": "ccb20efc"
      },
      "source": [
        "## Answering questions\n",
        "* What food has highest calories?\n",
        "* What fast-food restaurant sells the highest calories food?\n",
        "* What is the median(the mean is very sensitive to the presence of outliers, so we won't use it.) of calories, calories from fat, cholesterol, and sodium in their food?\n",
        "* What food has lowest calories and what restaurant sells it?"
      ]
    },
    {
      "cell_type": "markdown",
      "id": "9a0e4947",
      "metadata": {
        "papermill": {
          "duration": 0.027865,
          "end_time": "2023-08-05T21:00:15.547806",
          "exception": false,
          "start_time": "2023-08-05T21:00:15.519941",
          "status": "completed"
        },
        "tags": [],
        "id": "9a0e4947"
      },
      "source": [
        "**Let's see what food has highest calories:**"
      ]
    },
    {
      "cell_type": "code",
      "execution_count": null,
      "id": "f9a46534",
      "metadata": {
        "execution": {
          "iopub.execute_input": "2023-08-05T21:00:15.606868Z",
          "iopub.status.busy": "2023-08-05T21:00:15.606481Z",
          "iopub.status.idle": "2023-08-05T21:00:15.612867Z",
          "shell.execute_reply": "2023-08-05T21:00:15.611729Z"
        },
        "papermill": {
          "duration": 0.039135,
          "end_time": "2023-08-05T21:00:15.615326",
          "exception": false,
          "start_time": "2023-08-05T21:00:15.576191",
          "status": "completed"
        },
        "tags": [],
        "id": "f9a46534",
        "outputId": "69500a13-80ab-4903-cc50-5fbef7a095ac"
      },
      "outputs": [
        {
          "name": "stdout",
          "output_type": "stream",
          "text": [
            "Our dataset contains calories from 20 up to 2430.\n"
          ]
        }
      ],
      "source": [
        "print(f\"Our dataset contains calories from {df.calories.min()} up to {df.calories.max()}.\")"
      ]
    },
    {
      "cell_type": "code",
      "execution_count": null,
      "id": "92fad0a2",
      "metadata": {
        "execution": {
          "iopub.execute_input": "2023-08-05T21:00:15.677175Z",
          "iopub.status.busy": "2023-08-05T21:00:15.676736Z",
          "iopub.status.idle": "2023-08-05T21:00:15.703251Z",
          "shell.execute_reply": "2023-08-05T21:00:15.702221Z"
        },
        "papermill": {
          "duration": 0.061073,
          "end_time": "2023-08-05T21:00:15.705710",
          "exception": false,
          "start_time": "2023-08-05T21:00:15.644637",
          "status": "completed"
        },
        "tags": [],
        "id": "92fad0a2",
        "outputId": "131cc29c-fa80-4b7c-e3ca-9c8233aec12f"
      },
      "outputs": [
        {
          "data": {
            "text/html": [
              "<div>\n",
              "<style scoped>\n",
              "    .dataframe tbody tr th:only-of-type {\n",
              "        vertical-align: middle;\n",
              "    }\n",
              "\n",
              "    .dataframe tbody tr th {\n",
              "        vertical-align: top;\n",
              "    }\n",
              "\n",
              "    .dataframe thead th {\n",
              "        text-align: right;\n",
              "    }\n",
              "</style>\n",
              "<table border=\"1\" class=\"dataframe\">\n",
              "  <thead>\n",
              "    <tr style=\"text-align: right;\">\n",
              "      <th></th>\n",
              "      <th>restaurant</th>\n",
              "      <th>item</th>\n",
              "      <th>calories</th>\n",
              "      <th>cal_fat</th>\n",
              "      <th>total_fat</th>\n",
              "      <th>sat_fat</th>\n",
              "      <th>trans_fat</th>\n",
              "      <th>cholesterol</th>\n",
              "      <th>sodium</th>\n",
              "      <th>total_carb</th>\n",
              "      <th>fiber</th>\n",
              "      <th>sugar</th>\n",
              "      <th>protein</th>\n",
              "      <th>vit_a</th>\n",
              "      <th>vit_c</th>\n",
              "      <th>calcium</th>\n",
              "      <th>salad</th>\n",
              "    </tr>\n",
              "  </thead>\n",
              "  <tbody>\n",
              "    <tr>\n",
              "      <th>39</th>\n",
              "      <td>Mcdonalds</td>\n",
              "      <td>20 piece Buttermilk Crispy Chicken Tenders</td>\n",
              "      <td>2430</td>\n",
              "      <td>1270</td>\n",
              "      <td>141</td>\n",
              "      <td>24.0</td>\n",
              "      <td>2.0</td>\n",
              "      <td>475</td>\n",
              "      <td>6080</td>\n",
              "      <td>103</td>\n",
              "      <td>2.0</td>\n",
              "      <td>3</td>\n",
              "      <td>186.0</td>\n",
              "      <td>0.0</td>\n",
              "      <td>2.0</td>\n",
              "      <td>8.0</td>\n",
              "      <td>Other</td>\n",
              "    </tr>\n",
              "  </tbody>\n",
              "</table>\n",
              "</div>"
            ],
            "text/plain": [
              "   restaurant                                        item  calories  cal_fat  \\\n",
              "39  Mcdonalds  20 piece Buttermilk Crispy Chicken Tenders      2430     1270   \n",
              "\n",
              "    total_fat  sat_fat  trans_fat  cholesterol  sodium  total_carb  fiber  \\\n",
              "39        141     24.0        2.0          475    6080         103    2.0   \n",
              "\n",
              "    sugar  protein  vit_a  vit_c  calcium  salad  \n",
              "39      3    186.0    0.0    2.0      8.0  Other  "
            ]
          },
          "execution_count": 24,
          "metadata": {},
          "output_type": "execute_result"
        }
      ],
      "source": [
        "df.query(f\"calories == {df.calories.max()}\")"
      ]
    },
    {
      "cell_type": "markdown",
      "id": "5e936b0a",
      "metadata": {
        "papermill": {
          "duration": 0.02831,
          "end_time": "2023-08-05T21:00:15.762941",
          "exception": false,
          "start_time": "2023-08-05T21:00:15.734631",
          "status": "completed"
        },
        "tags": [],
        "id": "5e936b0a"
      },
      "source": [
        "The food with highest calories is the item: 20 piece Buttermilk Crispy Chicken Tenders."
      ]
    },
    {
      "cell_type": "markdown",
      "id": "6209958a",
      "metadata": {
        "papermill": {
          "duration": 0.044932,
          "end_time": "2023-08-05T21:00:15.857927",
          "exception": false,
          "start_time": "2023-08-05T21:00:15.812995",
          "status": "completed"
        },
        "tags": [],
        "id": "6209958a"
      },
      "source": [
        "![](http://www.nrn.com/sites/nrn.com/files/mcdonalds-buttermilk-crispy-chicken-tenders_0.gif)"
      ]
    },
    {
      "cell_type": "markdown",
      "id": "a140b8bf",
      "metadata": {
        "papermill": {
          "duration": 0.029194,
          "end_time": "2023-08-05T21:00:15.917361",
          "exception": false,
          "start_time": "2023-08-05T21:00:15.888167",
          "status": "completed"
        },
        "tags": [],
        "id": "a140b8bf"
      },
      "source": [
        "**What fast-food restaurant sells the highest calories food?**"
      ]
    },
    {
      "cell_type": "markdown",
      "id": "e9b2b7dc",
      "metadata": {
        "papermill": {
          "duration": 0.029507,
          "end_time": "2023-08-05T21:00:15.976506",
          "exception": false,
          "start_time": "2023-08-05T21:00:15.946999",
          "status": "completed"
        },
        "tags": [],
        "id": "e9b2b7dc"
      },
      "source": [
        "McDonalds sells the highest calories foods.\n",
        "Top 3 highest:"
      ]
    },
    {
      "cell_type": "code",
      "execution_count": null,
      "id": "2fab0556",
      "metadata": {
        "execution": {
          "iopub.execute_input": "2023-08-05T21:00:16.037742Z",
          "iopub.status.busy": "2023-08-05T21:00:16.037250Z",
          "iopub.status.idle": "2023-08-05T21:00:16.066417Z",
          "shell.execute_reply": "2023-08-05T21:00:16.065426Z"
        },
        "papermill": {
          "duration": 0.063118,
          "end_time": "2023-08-05T21:00:16.069119",
          "exception": false,
          "start_time": "2023-08-05T21:00:16.006001",
          "status": "completed"
        },
        "tags": [],
        "id": "2fab0556",
        "outputId": "34e70890-3c2a-4ff5-ae4f-0bacff1167d0"
      },
      "outputs": [
        {
          "data": {
            "text/html": [
              "<div>\n",
              "<style scoped>\n",
              "    .dataframe tbody tr th:only-of-type {\n",
              "        vertical-align: middle;\n",
              "    }\n",
              "\n",
              "    .dataframe tbody tr th {\n",
              "        vertical-align: top;\n",
              "    }\n",
              "\n",
              "    .dataframe thead th {\n",
              "        text-align: right;\n",
              "    }\n",
              "</style>\n",
              "<table border=\"1\" class=\"dataframe\">\n",
              "  <thead>\n",
              "    <tr style=\"text-align: right;\">\n",
              "      <th></th>\n",
              "      <th>restaurant</th>\n",
              "      <th>item</th>\n",
              "      <th>calories</th>\n",
              "      <th>cal_fat</th>\n",
              "      <th>total_fat</th>\n",
              "      <th>sat_fat</th>\n",
              "      <th>trans_fat</th>\n",
              "      <th>cholesterol</th>\n",
              "      <th>sodium</th>\n",
              "      <th>total_carb</th>\n",
              "      <th>fiber</th>\n",
              "      <th>sugar</th>\n",
              "      <th>protein</th>\n",
              "      <th>vit_a</th>\n",
              "      <th>vit_c</th>\n",
              "      <th>calcium</th>\n",
              "      <th>salad</th>\n",
              "    </tr>\n",
              "  </thead>\n",
              "  <tbody>\n",
              "    <tr>\n",
              "      <th>39</th>\n",
              "      <td>Mcdonalds</td>\n",
              "      <td>20 piece Buttermilk Crispy Chicken Tenders</td>\n",
              "      <td>2430</td>\n",
              "      <td>1270</td>\n",
              "      <td>141</td>\n",
              "      <td>24.0</td>\n",
              "      <td>2.0</td>\n",
              "      <td>475</td>\n",
              "      <td>6080</td>\n",
              "      <td>103</td>\n",
              "      <td>2.0</td>\n",
              "      <td>3</td>\n",
              "      <td>186.0</td>\n",
              "      <td>0.0</td>\n",
              "      <td>2.0</td>\n",
              "      <td>8.0</td>\n",
              "      <td>Other</td>\n",
              "    </tr>\n",
              "    <tr>\n",
              "      <th>44</th>\n",
              "      <td>Mcdonalds</td>\n",
              "      <td>40 piece Chicken McNuggets</td>\n",
              "      <td>1770</td>\n",
              "      <td>960</td>\n",
              "      <td>107</td>\n",
              "      <td>18.0</td>\n",
              "      <td>0.5</td>\n",
              "      <td>295</td>\n",
              "      <td>3370</td>\n",
              "      <td>105</td>\n",
              "      <td>7.0</td>\n",
              "      <td>1</td>\n",
              "      <td>98.0</td>\n",
              "      <td>0.0</td>\n",
              "      <td>15.0</td>\n",
              "      <td>6.0</td>\n",
              "      <td>Other</td>\n",
              "    </tr>\n",
              "    <tr>\n",
              "      <th>47</th>\n",
              "      <td>Mcdonalds</td>\n",
              "      <td>10 piece Sweet N' Spicy Honey BBQ Glazed Tenders</td>\n",
              "      <td>1600</td>\n",
              "      <td>600</td>\n",
              "      <td>66</td>\n",
              "      <td>10.0</td>\n",
              "      <td>0.0</td>\n",
              "      <td>265</td>\n",
              "      <td>4450</td>\n",
              "      <td>156</td>\n",
              "      <td>5.0</td>\n",
              "      <td>87</td>\n",
              "      <td>97.0</td>\n",
              "      <td>8.0</td>\n",
              "      <td>40.0</td>\n",
              "      <td>10.0</td>\n",
              "      <td>Other</td>\n",
              "    </tr>\n",
              "  </tbody>\n",
              "</table>\n",
              "</div>"
            ],
            "text/plain": [
              "   restaurant                                              item  calories  \\\n",
              "39  Mcdonalds        20 piece Buttermilk Crispy Chicken Tenders      2430   \n",
              "44  Mcdonalds                        40 piece Chicken McNuggets      1770   \n",
              "47  Mcdonalds  10 piece Sweet N' Spicy Honey BBQ Glazed Tenders      1600   \n",
              "\n",
              "    cal_fat  total_fat  sat_fat  trans_fat  cholesterol  sodium  total_carb  \\\n",
              "39     1270        141     24.0        2.0          475    6080         103   \n",
              "44      960        107     18.0        0.5          295    3370         105   \n",
              "47      600         66     10.0        0.0          265    4450         156   \n",
              "\n",
              "    fiber  sugar  protein  vit_a  vit_c  calcium  salad  \n",
              "39    2.0      3    186.0    0.0    2.0      8.0  Other  \n",
              "44    7.0      1     98.0    0.0   15.0      6.0  Other  \n",
              "47    5.0     87     97.0    8.0   40.0     10.0  Other  "
            ]
          },
          "execution_count": 25,
          "metadata": {},
          "output_type": "execute_result"
        }
      ],
      "source": [
        "df.query(f\"calories in {df.calories.nlargest(3).to_list()}\")"
      ]
    },
    {
      "cell_type": "markdown",
      "id": "f613f7d9",
      "metadata": {
        "papermill": {
          "duration": 0.031737,
          "end_time": "2023-08-05T21:00:16.131500",
          "exception": false,
          "start_time": "2023-08-05T21:00:16.099763",
          "status": "completed"
        },
        "tags": [],
        "id": "f613f7d9"
      },
      "source": [
        "**What is the median(the mean is very sensitive to the presence of outliers, so we won't use it.) of calories, calories from fat, cholesterol, and sodium in their food?**"
      ]
    },
    {
      "cell_type": "code",
      "execution_count": null,
      "id": "cce336e1",
      "metadata": {
        "execution": {
          "iopub.execute_input": "2023-08-05T21:00:16.203589Z",
          "iopub.status.busy": "2023-08-05T21:00:16.202829Z",
          "iopub.status.idle": "2023-08-05T21:00:18.682189Z",
          "shell.execute_reply": "2023-08-05T21:00:18.680479Z"
        },
        "papermill": {
          "duration": 2.517975,
          "end_time": "2023-08-05T21:00:18.685433",
          "exception": true,
          "start_time": "2023-08-05T21:00:16.167458",
          "status": "failed"
        },
        "tags": [],
        "id": "cce336e1",
        "outputId": "e55f7d8c-9b99-4167-a958-b38b5f459a42"
      },
      "outputs": [
        {
          "name": "stderr",
          "output_type": "stream",
          "text": [
            "Custom TB Handler failed, unregistering\n"
          ]
        },
        {
          "name": "stdout",
          "output_type": "stream",
          "text": [
            "Unexpected exception formatting exception. Falling back to standard exception\n"
          ]
        },
        {
          "name": "stderr",
          "output_type": "stream",
          "text": [
            "Traceback (most recent call last):\n",
            "  File \"/opt/conda/lib/python3.10/site-packages/IPython/core/interactiveshell.py\", line 3508, in run_code\n",
            "    exec(code_obj, self.user_global_ns, self.user_ns)\n",
            "  File \"/tmp/ipykernel_20/998646564.py\", line 8, in <module>\n",
            "    mc_describe = df[df['restaurant'] == 'Mcdonalds'].agg(agg_func).plot.barh()\n",
            "  File \"/opt/conda/lib/python3.10/site-packages/pandas/plotting/_core.py\", line 1245, in barh\n",
            "    Column in the DataFrame to group by.\n",
            "  File \"/opt/conda/lib/python3.10/site-packages/pandas/plotting/_core.py\", line 920, in __call__\n",
            "    return plot_backend.plot(data, x=x, y=y, kind=kind, **kwargs)\n",
            "  File \"/opt/conda/lib/python3.10/site-packages/pandas/plotting/_core.py\", line 1886, in _get_plot_backend\n",
            "  File \"/opt/conda/lib/python3.10/site-packages/pandas/plotting/_core.py\", line 1817, in _load_backend\n",
            "    # Fall back to unregistered, module name approach.\n",
            "ImportError: matplotlib is required for plotting when the default backend \"matplotlib\" is selected.\n",
            "\n",
            "During handling of the above exception, another exception occurred:\n",
            "\n",
            "Traceback (most recent call last):\n",
            "  File \"/opt/conda/lib/python3.10/site-packages/IPython/core/interactiveshell.py\", line 1975, in wrapped\n",
            "    stb = handler(self,etype,value,tb,tb_offset=tb_offset)\n",
            "  File \"/opt/conda/lib/python3.10/site-packages/dask/base.py\", line 79, in _clean_ipython_traceback\n",
            "    stb = self.InteractiveTB.structured_traceback(\n",
            "  File \"/opt/conda/lib/python3.10/site-packages/IPython/core/ultratb.py\", line 1428, in structured_traceback\n",
            "    return FormattedTB.structured_traceback(\n",
            "  File \"/opt/conda/lib/python3.10/site-packages/IPython/core/ultratb.py\", line 1319, in structured_traceback\n",
            "    return VerboseTB.structured_traceback(\n",
            "  File \"/opt/conda/lib/python3.10/site-packages/IPython/core/ultratb.py\", line 1172, in structured_traceback\n",
            "    formatted_exception = self.format_exception_as_a_whole(etype, evalue, etb, number_of_lines_of_context,\n",
            "  File \"/opt/conda/lib/python3.10/site-packages/IPython/core/ultratb.py\", line 1087, in format_exception_as_a_whole\n",
            "    frames.append(self.format_record(record))\n",
            "  File \"/opt/conda/lib/python3.10/site-packages/IPython/core/ultratb.py\", line 969, in format_record\n",
            "    frame_info.lines, Colors, self.has_colors, lvals\n",
            "  File \"/opt/conda/lib/python3.10/site-packages/IPython/core/ultratb.py\", line 792, in lines\n",
            "    return self._sd.lines\n",
            "  File \"/opt/conda/lib/python3.10/site-packages/stack_data/utils.py\", line 144, in cached_property_wrapper\n",
            "    value = obj.__dict__[self.func.__name__] = self.func(obj)\n",
            "  File \"/opt/conda/lib/python3.10/site-packages/stack_data/core.py\", line 734, in lines\n",
            "    pieces = self.included_pieces\n",
            "  File \"/opt/conda/lib/python3.10/site-packages/stack_data/utils.py\", line 144, in cached_property_wrapper\n",
            "    value = obj.__dict__[self.func.__name__] = self.func(obj)\n",
            "  File \"/opt/conda/lib/python3.10/site-packages/stack_data/core.py\", line 681, in included_pieces\n",
            "    pos = scope_pieces.index(self.executing_piece)\n",
            "  File \"/opt/conda/lib/python3.10/site-packages/stack_data/utils.py\", line 144, in cached_property_wrapper\n",
            "    value = obj.__dict__[self.func.__name__] = self.func(obj)\n",
            "  File \"/opt/conda/lib/python3.10/site-packages/stack_data/core.py\", line 660, in executing_piece\n",
            "    return only(\n",
            "  File \"/opt/conda/lib/python3.10/site-packages/executing/executing.py\", line 190, in only\n",
            "    raise NotOneValueFound('Expected one value, found 0')\n",
            "executing.executing.NotOneValueFound: Expected one value, found 0\n",
            "\n",
            "During handling of the above exception, another exception occurred:\n",
            "\n",
            "Traceback (most recent call last):\n",
            "  File \"/opt/conda/lib/python3.10/site-packages/IPython/core/interactiveshell.py\", line 3448, in run_ast_nodes\n",
            "    if await self.run_code(code, result, async_=asy):\n",
            "  File \"/opt/conda/lib/python3.10/site-packages/IPython/core/interactiveshell.py\", line 3526, in run_code\n",
            "    self.CustomTB(etype, value, tb)\n",
            "  File \"/opt/conda/lib/python3.10/site-packages/IPython/core/interactiveshell.py\", line 1982, in wrapped\n",
            "    stb = self.InteractiveTB.structured_traceback(*sys.exc_info())\n",
            "  File \"/opt/conda/lib/python3.10/site-packages/IPython/core/ultratb.py\", line 1428, in structured_traceback\n",
            "    return FormattedTB.structured_traceback(\n",
            "  File \"/opt/conda/lib/python3.10/site-packages/IPython/core/ultratb.py\", line 1319, in structured_traceback\n",
            "    return VerboseTB.structured_traceback(\n",
            "  File \"/opt/conda/lib/python3.10/site-packages/IPython/core/ultratb.py\", line 1191, in structured_traceback\n",
            "    formatted_exceptions += self.format_exception_as_a_whole(etype, evalue, etb, lines_of_context,\n",
            "  File \"/opt/conda/lib/python3.10/site-packages/IPython/core/ultratb.py\", line 1087, in format_exception_as_a_whole\n",
            "    frames.append(self.format_record(record))\n",
            "  File \"/opt/conda/lib/python3.10/site-packages/IPython/core/ultratb.py\", line 969, in format_record\n",
            "    frame_info.lines, Colors, self.has_colors, lvals\n",
            "  File \"/opt/conda/lib/python3.10/site-packages/IPython/core/ultratb.py\", line 792, in lines\n",
            "    return self._sd.lines\n",
            "  File \"/opt/conda/lib/python3.10/site-packages/stack_data/utils.py\", line 144, in cached_property_wrapper\n",
            "    value = obj.__dict__[self.func.__name__] = self.func(obj)\n",
            "  File \"/opt/conda/lib/python3.10/site-packages/stack_data/core.py\", line 734, in lines\n",
            "    pieces = self.included_pieces\n",
            "  File \"/opt/conda/lib/python3.10/site-packages/stack_data/utils.py\", line 144, in cached_property_wrapper\n",
            "    value = obj.__dict__[self.func.__name__] = self.func(obj)\n",
            "  File \"/opt/conda/lib/python3.10/site-packages/stack_data/core.py\", line 681, in included_pieces\n",
            "    pos = scope_pieces.index(self.executing_piece)\n",
            "  File \"/opt/conda/lib/python3.10/site-packages/stack_data/utils.py\", line 144, in cached_property_wrapper\n",
            "    value = obj.__dict__[self.func.__name__] = self.func(obj)\n",
            "  File \"/opt/conda/lib/python3.10/site-packages/stack_data/core.py\", line 660, in executing_piece\n",
            "    return only(\n",
            "  File \"/opt/conda/lib/python3.10/site-packages/executing/executing.py\", line 190, in only\n",
            "    raise NotOneValueFound('Expected one value, found 0')\n",
            "executing.executing.NotOneValueFound: Expected one value, found 0\n",
            "\n",
            "During handling of the above exception, another exception occurred:\n",
            "\n",
            "Traceback (most recent call last):\n",
            "  File \"/opt/conda/lib/python3.10/site-packages/IPython/core/interactiveshell.py\", line 2105, in showtraceback\n",
            "    stb = self.InteractiveTB.structured_traceback(\n",
            "  File \"/opt/conda/lib/python3.10/site-packages/IPython/core/ultratb.py\", line 1428, in structured_traceback\n",
            "    return FormattedTB.structured_traceback(\n",
            "  File \"/opt/conda/lib/python3.10/site-packages/IPython/core/ultratb.py\", line 1319, in structured_traceback\n",
            "    return VerboseTB.structured_traceback(\n",
            "  File \"/opt/conda/lib/python3.10/site-packages/IPython/core/ultratb.py\", line 1191, in structured_traceback\n",
            "    formatted_exceptions += self.format_exception_as_a_whole(etype, evalue, etb, lines_of_context,\n",
            "  File \"/opt/conda/lib/python3.10/site-packages/IPython/core/ultratb.py\", line 1087, in format_exception_as_a_whole\n",
            "    frames.append(self.format_record(record))\n",
            "  File \"/opt/conda/lib/python3.10/site-packages/IPython/core/ultratb.py\", line 969, in format_record\n",
            "    frame_info.lines, Colors, self.has_colors, lvals\n",
            "  File \"/opt/conda/lib/python3.10/site-packages/IPython/core/ultratb.py\", line 792, in lines\n",
            "    return self._sd.lines\n",
            "  File \"/opt/conda/lib/python3.10/site-packages/stack_data/utils.py\", line 144, in cached_property_wrapper\n",
            "    value = obj.__dict__[self.func.__name__] = self.func(obj)\n",
            "  File \"/opt/conda/lib/python3.10/site-packages/stack_data/core.py\", line 734, in lines\n",
            "    pieces = self.included_pieces\n",
            "  File \"/opt/conda/lib/python3.10/site-packages/stack_data/utils.py\", line 144, in cached_property_wrapper\n",
            "    value = obj.__dict__[self.func.__name__] = self.func(obj)\n",
            "  File \"/opt/conda/lib/python3.10/site-packages/stack_data/core.py\", line 681, in included_pieces\n",
            "    pos = scope_pieces.index(self.executing_piece)\n",
            "  File \"/opt/conda/lib/python3.10/site-packages/stack_data/utils.py\", line 144, in cached_property_wrapper\n",
            "    value = obj.__dict__[self.func.__name__] = self.func(obj)\n",
            "  File \"/opt/conda/lib/python3.10/site-packages/stack_data/core.py\", line 660, in executing_piece\n",
            "    return only(\n",
            "  File \"/opt/conda/lib/python3.10/site-packages/executing/executing.py\", line 190, in only\n",
            "    raise NotOneValueFound('Expected one value, found 0')\n",
            "executing.executing.NotOneValueFound: Expected one value, found 0\n"
          ]
        }
      ],
      "source": [
        "agg_func = {\n",
        "    'calories': ['median'],\n",
        "    'cal_fat': ['median'],\n",
        "    'cholesterol': ['median'],\n",
        "    'sodium': ['median']\n",
        "}\n",
        "\n",
        "mc_describe = df[df['restaurant'] == 'Mcdonalds'].agg(agg_func).plot.barh()"
      ]
    },
    {
      "cell_type": "markdown",
      "id": "58dbcf18",
      "metadata": {
        "papermill": {
          "duration": null,
          "end_time": null,
          "exception": null,
          "start_time": null,
          "status": "pending"
        },
        "tags": [],
        "id": "58dbcf18"
      },
      "source": [
        "**What food has lowest calories and what restaurant sells it?**"
      ]
    },
    {
      "cell_type": "markdown",
      "id": "bde2431e",
      "metadata": {
        "papermill": {
          "duration": null,
          "end_time": null,
          "exception": null,
          "start_time": null,
          "status": "pending"
        },
        "tags": [],
        "id": "bde2431e"
      },
      "source": [
        "Let's see what food has lowest calories:"
      ]
    },
    {
      "cell_type": "code",
      "execution_count": null,
      "id": "84b71378",
      "metadata": {
        "execution": {
          "iopub.execute_input": "2023-08-05T20:43:49.006989Z",
          "iopub.status.busy": "2023-08-05T20:43:49.006667Z",
          "iopub.status.idle": "2023-08-05T20:43:49.026342Z",
          "shell.execute_reply": "2023-08-05T20:43:49.025118Z",
          "shell.execute_reply.started": "2023-08-05T20:43:49.006963Z"
        },
        "papermill": {
          "duration": null,
          "end_time": null,
          "exception": null,
          "start_time": null,
          "status": "pending"
        },
        "tags": [],
        "id": "84b71378"
      },
      "outputs": [],
      "source": [
        "df.query(f\"calories == {df.calories.min()}\")"
      ]
    },
    {
      "cell_type": "markdown",
      "id": "a7c62200",
      "metadata": {
        "papermill": {
          "duration": null,
          "end_time": null,
          "exception": null,
          "start_time": null,
          "status": "pending"
        },
        "tags": [],
        "id": "a7c62200"
      },
      "source": [
        "The food with lowest calories is the item: Side Salad. Dairy Queen sells it:"
      ]
    },
    {
      "cell_type": "markdown",
      "id": "3449473f",
      "metadata": {
        "papermill": {
          "duration": null,
          "end_time": null,
          "exception": null,
          "start_time": null,
          "status": "pending"
        },
        "tags": [],
        "id": "3449473f"
      },
      "source": [
        "![](http://images.getbento.com/accounts/0a6ca328d2a4178127fd36f1a142b8e4/media/images/60093dq-sides-salad_1.png?w=1200&fit=max&auto=compress,format)"
      ]
    },
    {
      "cell_type": "markdown",
      "id": "2a47b562",
      "metadata": {
        "papermill": {
          "duration": null,
          "end_time": null,
          "exception": null,
          "start_time": null,
          "status": "pending"
        },
        "tags": [],
        "id": "2a47b562"
      },
      "source": [
        "Let's see top 5 lowest calories foods and what restaurant sells it:"
      ]
    },
    {
      "cell_type": "code",
      "execution_count": null,
      "id": "46a4912c",
      "metadata": {
        "execution": {
          "iopub.execute_input": "2023-08-05T20:43:49.027577Z",
          "iopub.status.busy": "2023-08-05T20:43:49.027270Z",
          "iopub.status.idle": "2023-08-05T20:43:49.060868Z",
          "shell.execute_reply": "2023-08-05T20:43:49.059726Z",
          "shell.execute_reply.started": "2023-08-05T20:43:49.027550Z"
        },
        "papermill": {
          "duration": null,
          "end_time": null,
          "exception": null,
          "start_time": null,
          "status": "pending"
        },
        "tags": [],
        "id": "46a4912c"
      },
      "outputs": [],
      "source": [
        "df.query(f\"calories in {df.calories.nsmallest(5).to_list()}\").\\\n",
        "sort_values(by='calories', ascending=False)"
      ]
    },
    {
      "cell_type": "markdown",
      "id": "ce2715f3",
      "metadata": {
        "papermill": {
          "duration": null,
          "end_time": null,
          "exception": null,
          "start_time": null,
          "status": "pending"
        },
        "tags": [],
        "id": "ce2715f3"
      },
      "source": [
        "## Data Visualization"
      ]
    },
    {
      "cell_type": "markdown",
      "id": "e9289835",
      "metadata": {
        "papermill": {
          "duration": null,
          "end_time": null,
          "exception": null,
          "start_time": null,
          "status": "pending"
        },
        "tags": [],
        "id": "e9289835"
      },
      "source": [
        "Answering another questions using Data Visualization:\n",
        "* What is the distribution of restaurants?\n",
        "* What is the median of calories per restaurants?\n",
        "* Worst Foods to Eat for Your Health"
      ]
    },
    {
      "cell_type": "code",
      "execution_count": null,
      "id": "7aef3cd3",
      "metadata": {
        "execution": {
          "iopub.execute_input": "2023-08-05T20:43:49.062473Z",
          "iopub.status.busy": "2023-08-05T20:43:49.062147Z",
          "iopub.status.idle": "2023-08-05T20:43:49.123785Z",
          "shell.execute_reply": "2023-08-05T20:43:49.122560Z",
          "shell.execute_reply.started": "2023-08-05T20:43:49.062449Z"
        },
        "papermill": {
          "duration": null,
          "end_time": null,
          "exception": null,
          "start_time": null,
          "status": "pending"
        },
        "tags": [],
        "id": "7aef3cd3"
      },
      "outputs": [],
      "source": [
        "plt.style.use(\"ggplot\")\n",
        "fig = px.histogram(df, x=\"restaurant\")\n",
        "fig.show()"
      ]
    },
    {
      "cell_type": "code",
      "execution_count": null,
      "id": "ac078a95",
      "metadata": {
        "execution": {
          "iopub.execute_input": "2023-08-05T20:43:49.125611Z",
          "iopub.status.busy": "2023-08-05T20:43:49.125159Z",
          "iopub.status.idle": "2023-08-05T20:43:49.134425Z",
          "shell.execute_reply": "2023-08-05T20:43:49.133571Z",
          "shell.execute_reply.started": "2023-08-05T20:43:49.125576Z"
        },
        "papermill": {
          "duration": null,
          "end_time": null,
          "exception": null,
          "start_time": null,
          "status": "pending"
        },
        "tags": [],
        "id": "ac078a95"
      },
      "outputs": [],
      "source": [
        "df['restaurant'].value_counts()"
      ]
    },
    {
      "cell_type": "markdown",
      "id": "1d954525",
      "metadata": {
        "papermill": {
          "duration": null,
          "end_time": null,
          "exception": null,
          "start_time": null,
          "status": "pending"
        },
        "tags": [],
        "id": "1d954525"
      },
      "source": [
        "**What is the median of calories per restaurant?**"
      ]
    },
    {
      "cell_type": "code",
      "execution_count": null,
      "id": "2bebc0ca",
      "metadata": {
        "execution": {
          "iopub.execute_input": "2023-08-05T20:43:49.135933Z",
          "iopub.status.busy": "2023-08-05T20:43:49.135642Z",
          "iopub.status.idle": "2023-08-05T20:43:49.400142Z",
          "shell.execute_reply": "2023-08-05T20:43:49.399171Z",
          "shell.execute_reply.started": "2023-08-05T20:43:49.135907Z"
        },
        "papermill": {
          "duration": null,
          "end_time": null,
          "exception": null,
          "start_time": null,
          "status": "pending"
        },
        "tags": [],
        "id": "2bebc0ca"
      },
      "outputs": [],
      "source": [
        "#Median of calories VS Restaurants\n",
        "median_restaurant = df.groupby('restaurant')['calories'].median()\n",
        "#Setting colors\n",
        "colors = ['cornflowerblue', 'mediumseagreen', 'tomato', 'mediumslateblue', 'lightseagreen', 'gold', 'aquamarine', 'magenta']\n",
        "\n",
        "fig, ax = plt.subplots(figsize=(14, 10))\n",
        "\n",
        "ax.bar(median_restaurant.index, median_restaurant.values, color = colors)\n",
        "\n",
        "\n",
        "ax.set_xlabel('Restaurants')\n",
        "ax.set_ylabel('Calories')\n",
        "ax.set_title('Median of calories VS Restaurants')\n",
        "\n",
        "\n",
        "ax.text(0, median_restaurant.values[0],\n",
        "        f'{median_restaurant.values[0]:.2f}', ha = 'center', va = 'bottom', fontsize = 12)\n",
        "\n",
        "ax.text(1, median_restaurant.values[1],\n",
        "        f'{median_restaurant.values[1]:.2f}', ha = 'center', va = 'bottom', fontsize = 12)\n",
        "\n",
        "ax.text(2, median_restaurant.values[2],\n",
        "        f'{median_restaurant.values[2]:.2f}', ha = 'center', va = 'bottom', fontsize = 12)\n",
        "\n",
        "ax.text(3, median_restaurant.values[3],\n",
        "        f'{median_restaurant.values[3]:.2f}', ha = 'center', va = 'bottom', fontsize = 12)\n",
        "\n",
        "ax.text(4, median_restaurant.values[4],\n",
        "        f'{median_restaurant.values[4]:.2f}', ha = 'center', va = 'bottom', fontsize = 12)\n",
        "\n",
        "ax.text(5, median_restaurant.values[5],\n",
        "        f'{median_restaurant.values[5]:.2f}', ha = 'center', va = 'bottom', fontsize = 12)\n",
        "\n",
        "ax.text(6, median_restaurant.values[6],\n",
        "        f'{median_restaurant.values[6]:.2f}', ha = 'center', va = 'bottom', fontsize = 12)\n",
        "\n",
        "ax.text(7, median_restaurant.values[7],\n",
        "        f'{median_restaurant.values[7]:.2f}', ha = 'center', va = 'bottom', fontsize = 12)\n",
        "\n",
        "\n",
        "\n",
        "plt.show()"
      ]
    },
    {
      "cell_type": "markdown",
      "id": "b093454e",
      "metadata": {
        "papermill": {
          "duration": null,
          "end_time": null,
          "exception": null,
          "start_time": null,
          "status": "pending"
        },
        "tags": [],
        "id": "b093454e"
      },
      "source": [
        "## Cumulative Distribution Function (CDF) plots"
      ]
    },
    {
      "cell_type": "code",
      "execution_count": null,
      "id": "2fb1375f",
      "metadata": {
        "execution": {
          "iopub.execute_input": "2023-08-05T20:43:49.402472Z",
          "iopub.status.busy": "2023-08-05T20:43:49.401342Z",
          "iopub.status.idle": "2023-08-05T20:43:49.650339Z",
          "shell.execute_reply": "2023-08-05T20:43:49.649158Z",
          "shell.execute_reply.started": "2023-08-05T20:43:49.402433Z"
        },
        "papermill": {
          "duration": null,
          "end_time": null,
          "exception": null,
          "start_time": null,
          "status": "pending"
        },
        "tags": [],
        "id": "2fb1375f"
      },
      "outputs": [],
      "source": [
        "#Cholesterol -\n",
        "\n",
        "x = np.sort(df['cholesterol'])\n",
        "y = np.arange(len(df)) / float(len(df))\n",
        "\n",
        "plt.xlabel('Cholesterol')\n",
        "plt.ylabel('%')\n",
        "plt.title('Cholesterol - Cumulative distribution')\n",
        "\n",
        "plt.plot(x, y, marker = 'o')"
      ]
    },
    {
      "cell_type": "markdown",
      "id": "9fa47784",
      "metadata": {
        "papermill": {
          "duration": null,
          "end_time": null,
          "exception": null,
          "start_time": null,
          "status": "pending"
        },
        "tags": [],
        "id": "9fa47784"
      },
      "source": [
        "With this graph we can see that 80% of foods has 100mg of Cholesterol."
      ]
    },
    {
      "cell_type": "code",
      "execution_count": null,
      "id": "f80a627d",
      "metadata": {
        "execution": {
          "iopub.execute_input": "2023-08-05T20:43:49.652319Z",
          "iopub.status.busy": "2023-08-05T20:43:49.651974Z",
          "iopub.status.idle": "2023-08-05T20:43:49.894438Z",
          "shell.execute_reply": "2023-08-05T20:43:49.893415Z",
          "shell.execute_reply.started": "2023-08-05T20:43:49.652291Z"
        },
        "papermill": {
          "duration": null,
          "end_time": null,
          "exception": null,
          "start_time": null,
          "status": "pending"
        },
        "tags": [],
        "id": "f80a627d"
      },
      "outputs": [],
      "source": [
        "#Sodium\n",
        "x = np.sort(df['sodium'])\n",
        "y = np.arange(len(df)) / float(len(df))\n",
        "\n",
        "plt.xlabel('Sodium')\n",
        "plt.ylabel('%')\n",
        "plt.title('Sodium - Cumulative distribution')\n",
        "\n",
        "plt.plot(x, y, marker = 'o')"
      ]
    },
    {
      "cell_type": "markdown",
      "id": "74b839a5",
      "metadata": {
        "papermill": {
          "duration": null,
          "end_time": null,
          "exception": null,
          "start_time": null,
          "status": "pending"
        },
        "tags": [],
        "id": "74b839a5"
      },
      "source": [
        "With this graph we can see that 80% of foods have between 1000mg and 2000mg of Sodium."
      ]
    },
    {
      "cell_type": "markdown",
      "id": "740f7226",
      "metadata": {
        "papermill": {
          "duration": null,
          "end_time": null,
          "exception": null,
          "start_time": null,
          "status": "pending"
        },
        "tags": [],
        "id": "740f7226"
      },
      "source": [
        "## Worst Foods to Eat for Your Health\n",
        "### Health authorities recommend between 1,500 mg (1.5 grams) and 2,300 mg (2.3 grams) of sodium per day for heart health. Let's see what food exceeds daily limit:"
      ]
    },
    {
      "cell_type": "code",
      "execution_count": null,
      "id": "48947649",
      "metadata": {
        "execution": {
          "iopub.execute_input": "2023-08-05T20:43:49.895913Z",
          "iopub.status.busy": "2023-08-05T20:43:49.895624Z",
          "iopub.status.idle": "2023-08-05T20:43:49.930643Z",
          "shell.execute_reply": "2023-08-05T20:43:49.929744Z",
          "shell.execute_reply.started": "2023-08-05T20:43:49.895887Z"
        },
        "papermill": {
          "duration": null,
          "end_time": null,
          "exception": null,
          "start_time": null,
          "status": "pending"
        },
        "tags": [],
        "id": "48947649"
      },
      "outputs": [],
      "source": [
        "df.query('sodium >= 2300')"
      ]
    },
    {
      "cell_type": "markdown",
      "id": "e4fd9357",
      "metadata": {
        "papermill": {
          "duration": null,
          "end_time": null,
          "exception": null,
          "start_time": null,
          "status": "pending"
        },
        "tags": [],
        "id": "e4fd9357"
      },
      "source": [
        "**Food with highest sodium:**"
      ]
    },
    {
      "cell_type": "code",
      "execution_count": null,
      "id": "0fa794bb",
      "metadata": {
        "execution": {
          "iopub.execute_input": "2023-08-05T20:43:49.932094Z",
          "iopub.status.busy": "2023-08-05T20:43:49.931817Z",
          "iopub.status.idle": "2023-08-05T20:43:49.958400Z",
          "shell.execute_reply": "2023-08-05T20:43:49.956891Z",
          "shell.execute_reply.started": "2023-08-05T20:43:49.932062Z"
        },
        "papermill": {
          "duration": null,
          "end_time": null,
          "exception": null,
          "start_time": null,
          "status": "pending"
        },
        "tags": [],
        "id": "0fa794bb"
      },
      "outputs": [],
      "source": [
        "df.query(f\"sodium == {df.sodium.max()}\")"
      ]
    },
    {
      "cell_type": "markdown",
      "id": "d536ad48",
      "metadata": {
        "papermill": {
          "duration": null,
          "end_time": null,
          "exception": null,
          "start_time": null,
          "status": "pending"
        },
        "tags": [],
        "id": "d536ad48"
      },
      "source": [
        "### If you have risk factors for heart disease, you should not consume more than 200 milligrams of cholesterol a day. If you do not have risk factors for heart disease, you should limit your cholesterol intake to no more than 300 milligrams a day.\n",
        "Let's see what food exceeds daily limit:"
      ]
    },
    {
      "cell_type": "code",
      "execution_count": null,
      "id": "54a9d25c",
      "metadata": {
        "execution": {
          "iopub.execute_input": "2023-08-05T20:43:49.960709Z",
          "iopub.status.busy": "2023-08-05T20:43:49.959995Z",
          "iopub.status.idle": "2023-08-05T20:43:49.985074Z",
          "shell.execute_reply": "2023-08-05T20:43:49.984084Z",
          "shell.execute_reply.started": "2023-08-05T20:43:49.960668Z"
        },
        "papermill": {
          "duration": null,
          "end_time": null,
          "exception": null,
          "start_time": null,
          "status": "pending"
        },
        "tags": [],
        "id": "54a9d25c"
      },
      "outputs": [],
      "source": [
        "df.query('cholesterol >= 300')"
      ]
    },
    {
      "cell_type": "markdown",
      "id": "d6515461",
      "metadata": {
        "papermill": {
          "duration": null,
          "end_time": null,
          "exception": null,
          "start_time": null,
          "status": "pending"
        },
        "tags": [],
        "id": "d6515461"
      },
      "source": [
        "### What about 'total fat'? So, if you're following a 2,000-calorie-a-day diet, your target range for total fat is 44 to 78 grams a day."
      ]
    },
    {
      "cell_type": "code",
      "execution_count": null,
      "id": "ab5fac80",
      "metadata": {
        "execution": {
          "iopub.execute_input": "2023-08-05T20:43:49.986618Z",
          "iopub.status.busy": "2023-08-05T20:43:49.986299Z",
          "iopub.status.idle": "2023-08-05T20:43:50.017532Z",
          "shell.execute_reply": "2023-08-05T20:43:50.016041Z",
          "shell.execute_reply.started": "2023-08-05T20:43:49.986582Z"
        },
        "papermill": {
          "duration": null,
          "end_time": null,
          "exception": null,
          "start_time": null,
          "status": "pending"
        },
        "tags": [],
        "id": "ab5fac80"
      },
      "outputs": [],
      "source": [
        "df.query('total_fat >= 78')"
      ]
    },
    {
      "cell_type": "markdown",
      "id": "2d43a6b7",
      "metadata": {
        "papermill": {
          "duration": null,
          "end_time": null,
          "exception": null,
          "start_time": null,
          "status": "pending"
        },
        "tags": [],
        "id": "2d43a6b7"
      },
      "source": [
        "## Conclusions"
      ]
    },
    {
      "cell_type": "markdown",
      "id": "a53c04c0",
      "metadata": {
        "papermill": {
          "duration": null,
          "end_time": null,
          "exception": null,
          "start_time": null,
          "status": "pending"
        },
        "tags": [],
        "id": "a53c04c0"
      },
      "source": [
        "Finding a healthy, well-balanced meal in a fast food restaurant can be a challenge. Fast food is associated with higher body mass index, less successful weight-loss maintenance and weight gain. Most foods exceed daily limit cholesterol, sodium, total fat and sugar. Eating too many foods that are high in cholesterol, saturated fats, and trans fats may increase your risk of developing high cholesterol. Without treatment, high cholesterol may lead to many health issues, including heart attack and stroke."
      ]
    }
  ],
  "metadata": {
    "kernelspec": {
      "display_name": "Python 3",
      "language": "python",
      "name": "python3"
    },
    "language_info": {
      "codemirror_mode": {
        "name": "ipython",
        "version": 3
      },
      "file_extension": ".py",
      "mimetype": "text/x-python",
      "name": "python",
      "nbconvert_exporter": "python",
      "pygments_lexer": "ipython3",
      "version": "3.10.12"
    },
    "papermill": {
      "default_parameters": {},
      "duration": 54.89627,
      "end_time": "2023-08-05T21:00:21.329178",
      "environment_variables": {},
      "exception": true,
      "input_path": "__notebook__.ipynb",
      "output_path": "__notebook__.ipynb",
      "parameters": {},
      "start_time": "2023-08-05T20:59:26.432908",
      "version": "2.4.0"
    },
    "colab": {
      "provenance": [],
      "include_colab_link": true
    }
  },
  "nbformat": 4,
  "nbformat_minor": 5
}